{
 "cells": [
  {
   "cell_type": "markdown",
   "metadata": {},
   "source": [
    "# Proyecto 2 - Análisis de datos Censo 2017\n",
    "\n",
    "**Autor:** Simón Ángel <br />\n",
    "**E-mail:** <saangel@uc.cl> <br />\n",
    "**Github:** <https://github.com/saangel> <br />\n",
    "\n",
    "El miércoles 19 de abril de 2017, organizado por el Instituto Nacional de Estadísticas (INE), se llevó a cabo en nuestro país el Censo de Población y Vivienda, donde cerca de 550000 participantes contaron y caracterizaron a más de 17500000 personas, en casi 6500000 viviendas (lugares físicos). Se hace la distinción con hogar, que es un grupo de personas que comparten gastos. Así, puede haber varios hogares dentro de una vivienda.\n",
    "\n",
    "En este proyecto, analizaremos los datos entregados por el INE sobre las viviendas y hogares de nuestro país.\n",
    "\n",
    "Primero, cargaremos los paquetes necesarios:"
   ]
  },
  {
   "cell_type": "code",
   "execution_count": 31,
   "metadata": {},
   "outputs": [
    {
     "data": {
      "text/plain": [
       "u'0.23.3'"
      ]
     },
     "execution_count": 31,
     "metadata": {},
     "output_type": "execute_result"
    }
   ],
   "source": [
    "import numpy as np\n",
    "import pandas as pd\n",
    "from matplotlib import pyplot as plt\n",
    "%matplotlib inline\n",
    "pd.__version__"
   ]
  },
  {
   "cell_type": "markdown",
   "metadata": {},
   "source": [
    "Luego, cargaremos los datos a utilizar. El archivo es pesado (~180 MB), así que este paso puede tomar un poco de tiempo."
   ]
  },
  {
   "cell_type": "code",
   "execution_count": 28,
   "metadata": {},
   "outputs": [],
   "source": [
    "censfile = \"https://metriclearning.blob.core.windows.net/tallerpython/Microdato_Censo2017-Hogares.csv\"\n",
    "censdata = pd.read_csv(censfile,header=0,sep=\";\")"
   ]
  },
  {
   "cell_type": "markdown",
   "metadata": {},
   "source": [
    "Verifiquemos que todo está bien con nuestro dataframe, mostrando los índices de las columnas, y los valores."
   ]
  },
  {
   "cell_type": "code",
   "execution_count": 32,
   "metadata": {},
   "outputs": [
    {
     "name": "stdout",
     "output_type": "stream",
     "text": [
      "Index([u'REGION', u'PROVINCIA', u'COMUNA', u'DC', u'AREA', u'ZC_LOC',\n",
      "       u'ID_ZONA_LOC', u'NVIV', u'NHOGAR', u'TIPO_HOGAR', u'TIPO_OPERATIVO'],\n",
      "      dtype='object')\n"
     ]
    }
   ],
   "source": [
    "print censdata.columns"
   ]
  },
  {
   "cell_type": "code",
   "execution_count": 33,
   "metadata": {},
   "outputs": [
    {
     "name": "stdout",
     "output_type": "stream",
     "text": [
      "[[   15   152 15202 ...     1     1     1]\n",
      " [   15   152 15202 ...     1     6     1]\n",
      " [   15   152 15202 ...     1     4     1]\n",
      " ...\n",
      " [    1    11  1101 ...     1     1     1]\n",
      " [    1    11  1101 ...     1     1     1]\n",
      " [    1    11  1101 ...     1     2     1]]\n"
     ]
    }
   ],
   "source": [
    "print censdata.values"
   ]
  },
  {
   "cell_type": "markdown",
   "metadata": {},
   "source": [
    "Cada fila de este dataframe es un hogar.\n",
    "\n",
    "Veamos qué significan las columnas:\n",
    " - REGION: numeradas del 1 al 15, siguen el orden que puede encontrarse [acá](https://www.bcn.cl/siit/nuestropais/regiones.htm). La Región Metropolitana es la número 13.\n",
    " - PROVINCIA: siguen la numeración $10*X+Y$, donde $X$ es el número de la región a la que pertenecen, e $Y$ es el índice de la provincia dentro de la región.\n",
    " - COMUNA: siguen la numeración $100*X+Y$, donde $X$ es el número de la provincia a la que pertenecen, e $Y$ es el índice de la comuna dentro de la provincia.\n",
    " - DC: corresponde a distrito. Se define como _\"la parte en que se divide el territorio comunal y que se constituye en la unidad básica mayor para las operaciones de terreno censales y de muestras estadísticas\"_, según el INE. Valor 99 significa \"no aplica\".\n",
    " - AREA: 1 corresponde a área urbana; 2 a rural\n",
    " - ZC_LOC: variable zona/localidad, con **zona censal** definida como _\"la división del distrito censal urbano y área urbana de los distritos censales mixtos, formada por un conglomerado de manzanas, cuya finalidad es facilitar la organización, control y levantamiento del censo\"_, y **localidad**, _\"corresponde a un área geográfica con nombre propio de conocimiento generalizado. Para efectos de la base de datos de un censo, corresponde a la división del distrito censal rural y las áreas rurales de los distritos censales mixtos\"_, ambas definidas según el INE. Valor 999 corresponde a \"no aplica\".\n",
    " - ID_ZONA_LOC: identificación única para cada zona censal o localidad a nivel país.\n",
    " - NVIV: número de vivienda dentro de la zona o localidad.\n",
    " - NHOGAR: número de hogar dentro de la vivienda.\n",
    " - TIPO_HOGAR: tiene valores\n",
    "     - 1: Hogar unipersonal\n",
    "     - 2: Hogar nuclear monoparental\n",
    "     - 3: Hogar nuclear biparental sin hijos\n",
    "     - 4: Hogar nuclear biparental con hijos\n",
    "     - 5: Hogar compuesto\n",
    "     - 6: Hogar extenso\n",
    "     - 7: Hogar sin núcleo\n",
    "     - 98: No Aplica\n",
    " - TIPO_OPERATIVO: tiene valores \n",
    "     - 1: Operativo viviendas particulares\n",
    "     - 8: Operativo viviendas colectivas (no es hogar)\n",
    "     - 9: Operativo personas en tránsito (no es hogar)\n",
    "     - 10 :Operativo de calle (no es hogar)\n",
    " "
   ]
  },
  {
   "cell_type": "markdown",
   "metadata": {},
   "source": [
    "Con estos datos, pasaremos a desarrollar el análisis."
   ]
  },
  {
   "cell_type": "markdown",
   "metadata": {},
   "source": [
    "## Actividad 1\n",
    "\n",
    "Muestre las 10 comunas de Chile donde podemos encontrar más hogares."
   ]
  },
  {
   "cell_type": "code",
   "execution_count": null,
   "metadata": {},
   "outputs": [],
   "source": []
  },
  {
   "cell_type": "markdown",
   "metadata": {},
   "source": [
    "## Actividad 2\n",
    "\n",
    "Muestre cómo es la distribución de hogares nucleares biparentales sin hijos en las regiones de nuestro país, y cómo se compara con la distribución del total de hogares."
   ]
  },
  {
   "cell_type": "code",
   "execution_count": null,
   "metadata": {},
   "outputs": [],
   "source": []
  },
  {
   "cell_type": "markdown",
   "metadata": {},
   "source": [
    "## Actividad 3\n",
    "\n",
    "Pandas permite realizar gráficos 2D utilizando **pd.DataFrame.plot.scatter(\"COLUMNA1\",\"COLUMNA2\")**. Modifique el siguiente ejemplo para mostrar el índice de comuna vs. el índice de provincia."
   ]
  },
  {
   "cell_type": "code",
   "execution_count": 35,
   "metadata": {},
   "outputs": [
    {
     "data": {
      "text/plain": [
       "<matplotlib.axes._subplots.AxesSubplot at 0x112de0bd0>"
      ]
     },
     "execution_count": 35,
     "metadata": {},
     "output_type": "execute_result"
    },
    {
     "data": {
      "image/png": "[encoded data removed]",
      "text/plain": [
       "<Figure size 432x288 with 1 Axes>"
      ]
     },
     "metadata": {},
     "output_type": "display_data"
    }
   ],
   "source": [
    "censdata.plot.scatter(\"\",\"\")\n"
   ]
  },
  {
   "cell_type": "markdown",
   "metadata": {},
   "source": [
    "- ¿Qué forma teórica debería tener la curva generada, según la información entregada arriba? Grafíquela\n",
    "- ¿A qué se debe la diferencia entre la curva teórica y la obtenida? ¿Cómo podemos cuantificar esta diferencia?"
   ]
  },
  {
   "cell_type": "code",
   "execution_count": null,
   "metadata": {},
   "outputs": [],
   "source": []
  },
  {
   "cell_type": "code",
   "execution_count": null,
   "metadata": {
    "collapsed": true
   },
   "outputs": [],
   "source": []
  },
  {
   "cell_type": "code",
   "execution_count": null,
   "metadata": {
    "collapsed": true
   },
   "outputs": [],
   "source": []
  }
 ],
 "metadata": {
  "kernelspec": {
   "display_name": "Python 2",
   "language": "python",
   "name": "python2"
  },
  "language_info": {
   "codemirror_mode": {
    "name": "ipython",
    "version": 2
   },
   "file_extension": ".py",
   "mimetype": "text/x-python",
   "name": "python",
   "nbconvert_exporter": "python",
   "pygments_lexer": "ipython2",
   "version": "2.7.15"
  }
 },
 "nbformat": 4,
 "nbformat_minor": 1
}
