{
 "cells": [
  {
   "cell_type": "markdown",
   "metadata": {},
   "source": [
    "# Ejercicios Twitter\n",
    "\n",
    "**Autor:** Tomás Castro <br />\n",
    "**E-mail:** tcastrog10@gmail.com <br />\n",
    "**GitHub:** https://github.com/tomcastro <br />\n",
    "\n",
    "Para los siguientes ejercicios, vamos a conectar Twitter a nuestra aplicación Python para poder hacer dos tipos de análisis: sentimental y word cloud.\n",
    "\n",
    "Primero, instalaremos todas las librerías que necesitamos para estos dos ejemplos."
   ]
  },
  {
   "cell_type": "code",
   "execution_count": null,
   "metadata": {},
   "outputs": [],
   "source": [
    "!pip install tweepy textblob wordcloud"
   ]
  },
  {
   "cell_type": "markdown",
   "metadata": {},
   "source": [
    "## Análisis de sentimientos\n",
    "\n",
    "Primero, importamos todas las librerías que necesitamos para esta parte. Tweepy es la librería que nos permite conectarnos a la API de Twitter, Pandas y Numpy nos permiten procesar esta información y almacenarla en un dataframe."
   ]
  },
  {
   "cell_type": "code",
   "execution_count": 5,
   "metadata": {},
   "outputs": [],
   "source": [
    "import tweepy\n",
    "import pandas as pd\n",
    "import numpy as np\n",
    "from IPython.display import display"
   ]
  },
  {
   "cell_type": "markdown",
   "metadata": {},
   "source": [
    "Agregamos las llaves de API que ya generamos para ustedes para que puedan consultar la API de Twitter."
   ]
  },
  {
   "cell_type": "code",
   "execution_count": 2,
   "metadata": {},
   "outputs": [],
   "source": [
    "# Llaves de acceso para Twitter\n",
    "\n",
    "# Consumer:\n",
    "CONSUMER_KEY    = 'vaIY3GCpoLs2KNZjU0O1OwbKe'\n",
    "CONSUMER_SECRET = 'zMeF2HN5FZukSD2BrlhTiwasvAXw3uG6wssan0RXcEoeApXwoA'\n",
    "\n",
    "# Access:\n",
    "ACCESS_TOKEN  = '34757935-HGoJ1rJjoqyZbpefIoF5XbqJfNgnIUpIJhmeP4c8m'\n",
    "ACCESS_SECRET = 'pgJ8OSOQ3SDZsSL41OiAy79i7qGbxmnB8yHBlNCIzNKwX'"
   ]
  },
  {
   "cell_type": "markdown",
   "metadata": {},
   "source": [
    "Creamos esta función, la cual utiliza las llaves que declaramos antes para conectarnos a Twitter y poder realizar llamadas a su API."
   ]
  },
  {
   "cell_type": "code",
   "execution_count": 3,
   "metadata": {},
   "outputs": [],
   "source": [
    "# API setup:\n",
    "def twitter_setup():\n",
    "\n",
    "    # Autentificación usando las llaves:\n",
    "    auth = tweepy.OAuthHandler(CONSUMER_KEY, CONSUMER_SECRET)\n",
    "    auth.set_access_token(ACCESS_TOKEN, ACCESS_SECRET)\n",
    "\n",
    "    # Devuelve la API autentificada:\n",
    "    api = tweepy.API(auth)\n",
    "    return api"
   ]
  },
  {
   "cell_type": "markdown",
   "metadata": {},
   "source": [
    "Creamos el objeto de la API con la función que declaramos, y buscamos los 200 tweets más recientes de un usuario definido."
   ]
  },
  {
   "cell_type": "code",
   "execution_count": 15,
   "metadata": {},
   "outputs": [
    {
     "name": "stdout",
     "output_type": "stream",
     "text": [
      "The United States will impose large sanctions on Turkey for their long time detainment of Pastor Andrew Brunson, a… https://t.co/PnHVJEY6uO\n",
      "\n",
      "This is great - on my way, see you soon @IAGovernor Kim Reynolds! https://t.co/SXfkk12Uig\n",
      "\n",
      "Heading to Dubuque, Iowa and then Granite City, Illinois. Looking  forward to being with many great friends!\n",
      "\n",
      "Twitter “SHADOW BANNING” prominent Republicans. Not good. We will look into this discriminatory and illegal practic… https://t.co/Ml5infKJ0B\n",
      "\n",
      "European Union representatives told me that they would start buying soybeans from our great farmers immediately. Al… https://t.co/Yuqt4KNeDz\n",
      "\n"
     ]
    }
   ],
   "source": [
    "# Creamos el objeto con la función que declaramos:\n",
    "api = twitter_setup()\n",
    "\n",
    "# Establecemos qué usuario queremos buscar (siéntanse libres de buscar cualquier usuario en Twitter, sin @)\n",
    "user = 'realDonaldTrump'\n",
    "\n",
    "# Populamos una lista de tweets de ese usuario\n",
    "tweets = api.user_timeline(screen_name=user, count=200)\n",
    "\n",
    "# Mostramos los últimos 5 tweets para asegurarnos que funciona\n",
    "for tweet in tweets[:5]:\n",
    "    print(tweet.text)\n",
    "    print()"
   ]
  },
  {
   "cell_type": "markdown",
   "metadata": {},
   "source": [
    "Creamos un dataframe con la información traída desde la API."
   ]
  },
  {
   "cell_type": "code",
   "execution_count": 16,
   "metadata": {},
   "outputs": [
    {
     "data": {
      "text/html": [
       "<div>\n",
       "<style scoped>\n",
       "    .dataframe tbody tr th:only-of-type {\n",
       "        vertical-align: middle;\n",
       "    }\n",
       "\n",
       "    .dataframe tbody tr th {\n",
       "        vertical-align: top;\n",
       "    }\n",
       "\n",
       "    .dataframe thead th {\n",
       "        text-align: right;\n",
       "    }\n",
       "</style>\n",
       "<table border=\"1\" class=\"dataframe\">\n",
       "  <thead>\n",
       "    <tr style=\"text-align: right;\">\n",
       "      <th></th>\n",
       "      <th>Tweets</th>\n",
       "    </tr>\n",
       "  </thead>\n",
       "  <tbody>\n",
       "    <tr>\n",
       "      <th>0</th>\n",
       "      <td>The United States will impose large sanctions ...</td>\n",
       "    </tr>\n",
       "    <tr>\n",
       "      <th>1</th>\n",
       "      <td>This is great - on my way, see you soon @IAGov...</td>\n",
       "    </tr>\n",
       "    <tr>\n",
       "      <th>2</th>\n",
       "      <td>Heading to Dubuque, Iowa and then Granite City...</td>\n",
       "    </tr>\n",
       "    <tr>\n",
       "      <th>3</th>\n",
       "      <td>Twitter “SHADOW BANNING” prominent Republicans...</td>\n",
       "    </tr>\n",
       "    <tr>\n",
       "      <th>4</th>\n",
       "      <td>European Union representatives told me that th...</td>\n",
       "    </tr>\n",
       "  </tbody>\n",
       "</table>\n",
       "</div>"
      ],
      "text/plain": [
       "                                              Tweets\n",
       "0  The United States will impose large sanctions ...\n",
       "1  This is great - on my way, see you soon @IAGov...\n",
       "2  Heading to Dubuque, Iowa and then Granite City...\n",
       "3  Twitter “SHADOW BANNING” prominent Republicans...\n",
       "4  European Union representatives told me that th..."
      ]
     },
     "metadata": {},
     "output_type": "display_data"
    }
   ],
   "source": [
    "# Creamos el dataframe con los tweets\n",
    "data = pd.DataFrame(data=[tweet.text for tweet in tweets], columns=['Tweets'])\n",
    "\n",
    "# Mostramos los primeros 5 tweets en nuestro dataframe\n",
    "display(data.head(5))"
   ]
  },
  {
   "cell_type": "markdown",
   "metadata": {},
   "source": [
    "Este paso es opcional, pero agregaremos a nuestro dataframe información que podría ser relevante para un análisis posterior, tal como el largo del tweet, su id, likes y RTs."
   ]
  },
  {
   "cell_type": "code",
   "execution_count": 17,
   "metadata": {},
   "outputs": [
    {
     "data": {
      "text/html": [
       "<div>\n",
       "<style scoped>\n",
       "    .dataframe tbody tr th:only-of-type {\n",
       "        vertical-align: middle;\n",
       "    }\n",
       "\n",
       "    .dataframe tbody tr th {\n",
       "        vertical-align: top;\n",
       "    }\n",
       "\n",
       "    .dataframe thead th {\n",
       "        text-align: right;\n",
       "    }\n",
       "</style>\n",
       "<table border=\"1\" class=\"dataframe\">\n",
       "  <thead>\n",
       "    <tr style=\"text-align: right;\">\n",
       "      <th></th>\n",
       "      <th>Tweets</th>\n",
       "      <th>len</th>\n",
       "      <th>ID</th>\n",
       "      <th>Date</th>\n",
       "      <th>Source</th>\n",
       "      <th>Likes</th>\n",
       "      <th>RTs</th>\n",
       "    </tr>\n",
       "  </thead>\n",
       "  <tbody>\n",
       "    <tr>\n",
       "      <th>0</th>\n",
       "      <td>The United States will impose large sanctions ...</td>\n",
       "      <td>139</td>\n",
       "      <td>1022502465147682817</td>\n",
       "      <td>2018-07-26 15:22:39</td>\n",
       "      <td>Twitter for iPhone</td>\n",
       "      <td>70598</td>\n",
       "      <td>20349</td>\n",
       "    </tr>\n",
       "    <tr>\n",
       "      <th>1</th>\n",
       "      <td>This is great - on my way, see you soon @IAGov...</td>\n",
       "      <td>89</td>\n",
       "      <td>1022494827504644096</td>\n",
       "      <td>2018-07-26 14:52:18</td>\n",
       "      <td>Twitter for iPhone</td>\n",
       "      <td>23949</td>\n",
       "      <td>5372</td>\n",
       "    </tr>\n",
       "    <tr>\n",
       "      <th>2</th>\n",
       "      <td>Heading to Dubuque, Iowa and then Granite City...</td>\n",
       "      <td>108</td>\n",
       "      <td>1022484559470977027</td>\n",
       "      <td>2018-07-26 14:11:30</td>\n",
       "      <td>Twitter for iPhone</td>\n",
       "      <td>44006</td>\n",
       "      <td>8509</td>\n",
       "    </tr>\n",
       "    <tr>\n",
       "      <th>3</th>\n",
       "      <td>Twitter “SHADOW BANNING” prominent Republicans...</td>\n",
       "      <td>140</td>\n",
       "      <td>1022447980408983552</td>\n",
       "      <td>2018-07-26 11:46:09</td>\n",
       "      <td>Twitter for iPhone</td>\n",
       "      <td>108812</td>\n",
       "      <td>34967</td>\n",
       "    </tr>\n",
       "    <tr>\n",
       "      <th>4</th>\n",
       "      <td>European Union representatives told me that th...</td>\n",
       "      <td>140</td>\n",
       "      <td>1022287249432563712</td>\n",
       "      <td>2018-07-26 01:07:28</td>\n",
       "      <td>Twitter for iPhone</td>\n",
       "      <td>77886</td>\n",
       "      <td>17568</td>\n",
       "    </tr>\n",
       "  </tbody>\n",
       "</table>\n",
       "</div>"
      ],
      "text/plain": [
       "                                              Tweets  len  \\\n",
       "0  The United States will impose large sanctions ...  139   \n",
       "1  This is great - on my way, see you soon @IAGov...   89   \n",
       "2  Heading to Dubuque, Iowa and then Granite City...  108   \n",
       "3  Twitter “SHADOW BANNING” prominent Republicans...  140   \n",
       "4  European Union representatives told me that th...  140   \n",
       "\n",
       "                    ID                Date              Source   Likes    RTs  \n",
       "0  1022502465147682817 2018-07-26 15:22:39  Twitter for iPhone   70598  20349  \n",
       "1  1022494827504644096 2018-07-26 14:52:18  Twitter for iPhone   23949   5372  \n",
       "2  1022484559470977027 2018-07-26 14:11:30  Twitter for iPhone   44006   8509  \n",
       "3  1022447980408983552 2018-07-26 11:46:09  Twitter for iPhone  108812  34967  \n",
       "4  1022287249432563712 2018-07-26 01:07:28  Twitter for iPhone   77886  17568  "
      ]
     },
     "metadata": {},
     "output_type": "display_data"
    }
   ],
   "source": [
    "# Agregamos información relevante al dataframe\n",
    "data['len']  = np.array([len(tweet.text) for tweet in tweets])\n",
    "data['ID']   = np.array([tweet.id for tweet in tweets])\n",
    "data['Date'] = np.array([tweet.created_at for tweet in tweets])\n",
    "data['Source'] = np.array([tweet.source for tweet in tweets])\n",
    "data['Likes']  = np.array([tweet.favorite_count for tweet in tweets])\n",
    "data['RTs']    = np.array([tweet.retweet_count for tweet in tweets])\n",
    "\n",
    "display(data.head(5))"
   ]
  },
  {
   "cell_type": "markdown",
   "metadata": {},
   "source": [
    "Aquí importamos la librería TextBlob (https://textblob.readthedocs.io/en/dev/), la cual nos proporciona una red neuronal ya entrenada para detectar sentimientos en oraciones. La red está entrenada para palabras en inglés, así que utilicen un usuario que sus tweets sean en inglés.\n",
    "\n",
    "Después, definimos dos funciones. clean_tweet va a limpiar cada tweet de caracteres especiales, tales como @ o #. analyze_sentiment clasificará un tweet por sentimiento utilizando la red ya entrenada de TextBlob."
   ]
  },
  {
   "cell_type": "code",
   "execution_count": 8,
   "metadata": {},
   "outputs": [],
   "source": [
    "from textblob import TextBlob\n",
    "import re\n",
    "\n",
    "def clean_tweet(tweet):\n",
    "    return ' '.join(re.sub(\"(@[A-Za-z0-9]+)|([^0-9A-Za-z \\t])|(\\w+:\\/\\/\\S+)\", \" \", tweet).split())\n",
    "\n",
    "def analize_sentiment(tweet):\n",
    "    analysis = TextBlob(clean_tweet(tweet))\n",
    "    if analysis.sentiment.polarity > 0:\n",
    "        return 1\n",
    "    elif analysis.sentiment.polarity == 0:\n",
    "        return 0\n",
    "    else:\n",
    "        return -1"
   ]
  },
  {
   "cell_type": "markdown",
   "metadata": {},
   "source": [
    "Para utilizar estas funciones, es una buena idea agregar una nueva columna a nuestro dataframe original que llamaremos SA. Aquí almacenaremos el sentimiento proporcionado por TextBlob."
   ]
  },
  {
   "cell_type": "code",
   "execution_count": 19,
   "metadata": {},
   "outputs": [
    {
     "data": {
      "text/html": [
       "<div>\n",
       "<style scoped>\n",
       "    .dataframe tbody tr th:only-of-type {\n",
       "        vertical-align: middle;\n",
       "    }\n",
       "\n",
       "    .dataframe tbody tr th {\n",
       "        vertical-align: top;\n",
       "    }\n",
       "\n",
       "    .dataframe thead th {\n",
       "        text-align: right;\n",
       "    }\n",
       "</style>\n",
       "<table border=\"1\" class=\"dataframe\">\n",
       "  <thead>\n",
       "    <tr style=\"text-align: right;\">\n",
       "      <th></th>\n",
       "      <th>Tweets</th>\n",
       "      <th>len</th>\n",
       "      <th>ID</th>\n",
       "      <th>Date</th>\n",
       "      <th>Source</th>\n",
       "      <th>Likes</th>\n",
       "      <th>RTs</th>\n",
       "      <th>SA</th>\n",
       "    </tr>\n",
       "  </thead>\n",
       "  <tbody>\n",
       "    <tr>\n",
       "      <th>0</th>\n",
       "      <td>The United States will impose large sanctions ...</td>\n",
       "      <td>139</td>\n",
       "      <td>1022502465147682817</td>\n",
       "      <td>2018-07-26 15:22:39</td>\n",
       "      <td>Twitter for iPhone</td>\n",
       "      <td>70598</td>\n",
       "      <td>20349</td>\n",
       "      <td>1</td>\n",
       "    </tr>\n",
       "    <tr>\n",
       "      <th>1</th>\n",
       "      <td>This is great - on my way, see you soon @IAGov...</td>\n",
       "      <td>89</td>\n",
       "      <td>1022494827504644096</td>\n",
       "      <td>2018-07-26 14:52:18</td>\n",
       "      <td>Twitter for iPhone</td>\n",
       "      <td>23949</td>\n",
       "      <td>5372</td>\n",
       "      <td>1</td>\n",
       "    </tr>\n",
       "    <tr>\n",
       "      <th>2</th>\n",
       "      <td>Heading to Dubuque, Iowa and then Granite City...</td>\n",
       "      <td>108</td>\n",
       "      <td>1022484559470977027</td>\n",
       "      <td>2018-07-26 14:11:30</td>\n",
       "      <td>Twitter for iPhone</td>\n",
       "      <td>44006</td>\n",
       "      <td>8509</td>\n",
       "      <td>1</td>\n",
       "    </tr>\n",
       "    <tr>\n",
       "      <th>3</th>\n",
       "      <td>Twitter “SHADOW BANNING” prominent Republicans...</td>\n",
       "      <td>140</td>\n",
       "      <td>1022447980408983552</td>\n",
       "      <td>2018-07-26 11:46:09</td>\n",
       "      <td>Twitter for iPhone</td>\n",
       "      <td>108812</td>\n",
       "      <td>34967</td>\n",
       "      <td>-1</td>\n",
       "    </tr>\n",
       "    <tr>\n",
       "      <th>4</th>\n",
       "      <td>European Union representatives told me that th...</td>\n",
       "      <td>140</td>\n",
       "      <td>1022287249432563712</td>\n",
       "      <td>2018-07-26 01:07:28</td>\n",
       "      <td>Twitter for iPhone</td>\n",
       "      <td>77886</td>\n",
       "      <td>17568</td>\n",
       "      <td>1</td>\n",
       "    </tr>\n",
       "    <tr>\n",
       "      <th>5</th>\n",
       "      <td>Great to be back on track with the European Un...</td>\n",
       "      <td>94</td>\n",
       "      <td>1022285656637300736</td>\n",
       "      <td>2018-07-26 01:01:08</td>\n",
       "      <td>Twitter for iPhone</td>\n",
       "      <td>91452</td>\n",
       "      <td>19155</td>\n",
       "      <td>1</td>\n",
       "    </tr>\n",
       "    <tr>\n",
       "      <th>6</th>\n",
       "      <td>RT @Scavino45: “We met today...to launch a new...</td>\n",
       "      <td>144</td>\n",
       "      <td>1022284698293297152</td>\n",
       "      <td>2018-07-26 00:57:19</td>\n",
       "      <td>Twitter for iPhone</td>\n",
       "      <td>0</td>\n",
       "      <td>7768</td>\n",
       "      <td>1</td>\n",
       "    </tr>\n",
       "    <tr>\n",
       "      <th>7</th>\n",
       "      <td>Thank you Georgia! They say that my endorsemen...</td>\n",
       "      <td>140</td>\n",
       "      <td>1022274433979957248</td>\n",
       "      <td>2018-07-26 00:16:32</td>\n",
       "      <td>Twitter for iPhone</td>\n",
       "      <td>58783</td>\n",
       "      <td>11847</td>\n",
       "      <td>1</td>\n",
       "    </tr>\n",
       "    <tr>\n",
       "      <th>8</th>\n",
       "      <td>Obviously the European Union, as represented b...</td>\n",
       "      <td>140</td>\n",
       "      <td>1022267646119763970</td>\n",
       "      <td>2018-07-25 23:49:34</td>\n",
       "      <td>Twitter for iPhone</td>\n",
       "      <td>44167</td>\n",
       "      <td>10485</td>\n",
       "      <td>0</td>\n",
       "    </tr>\n",
       "    <tr>\n",
       "      <th>9</th>\n",
       "      <td>...along quickly. European Union Nations will ...</td>\n",
       "      <td>140</td>\n",
       "      <td>1022265842644525056</td>\n",
       "      <td>2018-07-25 23:42:24</td>\n",
       "      <td>Twitter for iPhone</td>\n",
       "      <td>42641</td>\n",
       "      <td>9599</td>\n",
       "      <td>0</td>\n",
       "    </tr>\n",
       "  </tbody>\n",
       "</table>\n",
       "</div>"
      ],
      "text/plain": [
       "                                              Tweets  len  \\\n",
       "0  The United States will impose large sanctions ...  139   \n",
       "1  This is great - on my way, see you soon @IAGov...   89   \n",
       "2  Heading to Dubuque, Iowa and then Granite City...  108   \n",
       "3  Twitter “SHADOW BANNING” prominent Republicans...  140   \n",
       "4  European Union representatives told me that th...  140   \n",
       "5  Great to be back on track with the European Un...   94   \n",
       "6  RT @Scavino45: “We met today...to launch a new...  144   \n",
       "7  Thank you Georgia! They say that my endorsemen...  140   \n",
       "8  Obviously the European Union, as represented b...  140   \n",
       "9  ...along quickly. European Union Nations will ...  140   \n",
       "\n",
       "                    ID                Date              Source   Likes    RTs  \\\n",
       "0  1022502465147682817 2018-07-26 15:22:39  Twitter for iPhone   70598  20349   \n",
       "1  1022494827504644096 2018-07-26 14:52:18  Twitter for iPhone   23949   5372   \n",
       "2  1022484559470977027 2018-07-26 14:11:30  Twitter for iPhone   44006   8509   \n",
       "3  1022447980408983552 2018-07-26 11:46:09  Twitter for iPhone  108812  34967   \n",
       "4  1022287249432563712 2018-07-26 01:07:28  Twitter for iPhone   77886  17568   \n",
       "5  1022285656637300736 2018-07-26 01:01:08  Twitter for iPhone   91452  19155   \n",
       "6  1022284698293297152 2018-07-26 00:57:19  Twitter for iPhone       0   7768   \n",
       "7  1022274433979957248 2018-07-26 00:16:32  Twitter for iPhone   58783  11847   \n",
       "8  1022267646119763970 2018-07-25 23:49:34  Twitter for iPhone   44167  10485   \n",
       "9  1022265842644525056 2018-07-25 23:42:24  Twitter for iPhone   42641   9599   \n",
       "\n",
       "   SA  \n",
       "0   1  \n",
       "1   1  \n",
       "2   1  \n",
       "3  -1  \n",
       "4   1  \n",
       "5   1  \n",
       "6   1  \n",
       "7   1  \n",
       "8   0  \n",
       "9   0  "
      ]
     },
     "metadata": {},
     "output_type": "display_data"
    }
   ],
   "source": [
    "# Creamos la columna nueva SA y guardamos los valores\n",
    "data['SA'] = np.array([ analize_sentiment(tweet) for tweet in data['Tweets'] ])\n",
    "\n",
    "# Mostramos el dataframe actualizado\n",
    "display(data.head(10))"
   ]
  },
  {
   "cell_type": "markdown",
   "metadata": {},
   "source": [
    "Los valores entregados son simplemente 1, 0 o -1. Estos nos indican si el tweet fue positivo (1), neutro (0), o negativo (-1). Con esto, podemos dividir los tweets en estas tres categorías, construyendo una lista para cada una de ellas."
   ]
  },
  {
   "cell_type": "code",
   "execution_count": 20,
   "metadata": {},
   "outputs": [
    {
     "name": "stdout",
     "output_type": "stream",
     "text": [
      "Porcentaje de tweets positivos: 48.0%\n",
      "Porcentaje de tweets neutros: 32.5%\n",
      "Porcentaje de tweets negativos: 19.5%\n"
     ]
    }
   ],
   "source": [
    "# Dividimos los tweets en tres listas dependiendo de su valor\n",
    "\n",
    "pos_tweets = [ tweet for index, tweet in enumerate(data['Tweets']) if data['SA'][index] > 0]\n",
    "neu_tweets = [ tweet for index, tweet in enumerate(data['Tweets']) if data['SA'][index] == 0]\n",
    "neg_tweets = [ tweet for index, tweet in enumerate(data['Tweets']) if data['SA'][index] < 0]\n",
    "\n",
    "# Imprimimos los porcentajes de sentimiento\n",
    "\n",
    "print(\"Porcentaje de tweets positivos: {}%\".format(len(pos_tweets)*100/len(data['Tweets'])))\n",
    "print(\"Porcentaje de tweets neutros: {}%\".format(len(neu_tweets)*100/len(data['Tweets'])))\n",
    "print(\"Porcentaje de tweets negativos: {}%\".format(len(neg_tweets)*100/len(data['Tweets'])))"
   ]
  },
  {
   "cell_type": "markdown",
   "metadata": {},
   "source": [
    "## Word Cloud\n",
    "\n",
    "Un word cloud es una representación gráfica de la frecuencia de palabras dentro de un texto, donde las palabras más utilizadas aparecen en un tamaño más grande.\n",
    "\n",
    "Crear un word cloud basado en los tweets que ya conseguimos es muy sencillo gracias a la librería WordCloud (https://github.com/amueller/word_cloud). Para ello, vamos a importar este paquete y también Matplotlib para poder mostrar la imagen."
   ]
  },
  {
   "cell_type": "code",
   "execution_count": 12,
   "metadata": {},
   "outputs": [],
   "source": [
    "from wordcloud import WordCloud\n",
    "import matplotlib.pyplot as plt\n",
    "%matplotlib inline"
   ]
  },
  {
   "cell_type": "markdown",
   "metadata": {},
   "source": [
    "La librería WordCloud solo acepta un string, y nosotros tenemos un dataframe, por lo que convertiremos toda la columna Tweets a un solo string para que cuente la frecuencia de palabras."
   ]
  },
  {
   "cell_type": "code",
   "execution_count": 14,
   "metadata": {},
   "outputs": [
    {
     "data": {
      "image/png": "[encoded data removed]",
      "text/plain": [
       "<Figure size 432x288 with 1 Axes>"
      ]
     },
     "metadata": {},
     "output_type": "display_data"
    }
   ],
   "source": [
    "# Creamos el word cloud a partir de la columna Tweets\n",
    "wc = WordCloud().generate(' '.join(data['Tweets']))\n",
    "\n",
    "# Mostramos el word cloud usando Matplotlib\n",
    "plt.imshow(wc)\n",
    "plt.axis(\"off\")\n",
    "plt.show()"
   ]
  },
  {
   "cell_type": "markdown",
   "metadata": {},
   "source": [
    "# Ejercicios a realizar\n",
    "\n",
    "## Gráfico de sentimientos\n",
    "\n",
    "Utilizando cualquier método de gráficos, tomen los datos de un usuario en Twitter, analicen los sentimientos de sus tweets y grafiquen los porcentajes de tweets negativos, neutros y positivos.\n",
    "\n",
    "## Limpieza de datos\n",
    "\n",
    "Si analizamos el word cloud que generamos en el ejemplo, nos damos cuenta que muchas palabras no son útiles para un análisis de frecuencia, ya que son partes de links, nomenclatura de Twitter (como RT) o el mismo nombre de la persona que twitteó. Vuelvan a generar el word cloud, pero realicen una limpieza del dataframe de tweets, eliminando todas las palabras que sean irrelevantes para un análisis de palabras. \n",
    "\n",
    "### Personalización del word cloud\n",
    "\n",
    "También busquen en la documentación de la librería de WordCloud (https://github.com/amueller/word_cloud) y cambien el tipo de visualización, ya sea agregando una máscara, cambiando los colores, etc."
   ]
  },
  {
   "cell_type": "code",
   "execution_count": null,
   "metadata": {},
   "outputs": [],
   "source": []
  }
 ],
 "metadata": {
  "kernelspec": {
   "display_name": "Python 3",
   "language": "python",
   "name": "python3"
  },
  "language_info": {
   "codemirror_mode": {
    "name": "ipython",
    "version": 3
   },
   "file_extension": ".py",
   "mimetype": "text/x-python",
   "name": "python",
   "nbconvert_exporter": "python",
   "pygments_lexer": "ipython3",
   "version": "3.6.5"
  }
 },
 "nbformat": 4,
 "nbformat_minor": 2
}
