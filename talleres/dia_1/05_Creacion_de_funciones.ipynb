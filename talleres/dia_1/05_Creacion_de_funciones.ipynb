{
 "cells": [
  {
   "cell_type": "markdown",
   "metadata": {},
   "source": [
    "# Creación y uso de funciones\n",
    "\n",
    "**Autor:** Roberto Muñoz <br />\n",
    "**E-mail:** <rmunoz@metricarts.com> <br />\n",
    "**Github:** <https://github.com/rpmunoz> <br />\n",
    "\n",
    "Python es un lenguaje de programación que soporta múltiples paradigmas de programación, tales como programación orientada a objetos, imperativo y funcional.\n",
    "\n",
    "La programación funcional es un paradigma en el que la programación se basa casi en su totalidad en funciones, entendiendo el concepto de función según su definición matemática, y no como los simples subprogramas de los lenguajes imperativos que hemos visto hasta\n",
    "ahora."
   ]
  },
  {
   "cell_type": "markdown",
   "metadata": {},
   "source": [
    "# 1. Definición de funciones\n",
    "\n",
    "La palabra reservada **def** se usa para definir funciones. Debe seguirle el nombre de la función y la lista de parámetros formales entre paréntesis. Las sentencias que forman el cuerpo de la función empiezan en la línea siguiente, y deben estar con identación."
   ]
  },
  {
   "cell_type": "code",
   "execution_count": null,
   "metadata": {
    "collapsed": true
   },
   "outputs": [],
   "source": [
    "def suma(x):\n",
    "    return x+10"
   ]
  },
  {
   "cell_type": "code",
   "execution_count": null,
   "metadata": {},
   "outputs": [],
   "source": [
    "suma(2)"
   ]
  },
  {
   "cell_type": "code",
   "execution_count": null,
   "metadata": {
    "collapsed": true
   },
   "outputs": [],
   "source": [
    "def suma(x, y=4):\n",
    "    return x + y"
   ]
  },
  {
   "cell_type": "code",
   "execution_count": null,
   "metadata": {},
   "outputs": [],
   "source": [
    "# Llamamos a la función suma con un solo parámetro\n",
    "\n",
    "suma(2)"
   ]
  },
  {
   "cell_type": "code",
   "execution_count": null,
   "metadata": {},
   "outputs": [],
   "source": [
    "# Llamamos a la función suma usando los dos parámetros\n",
    "\n",
    "suma(2,10)"
   ]
  },
  {
   "cell_type": "markdown",
   "metadata": {},
   "source": [
    "La primera sentencia del cuerpo de la función puede ser opcionalmente una cadena de texto literal; esta es la cadena de texto de documentación de la función, o docstring. (Podés encontrar más acerca de docstrings en la sección Cadenas de texto de documentación.)"
   ]
  },
  {
   "cell_type": "code",
   "execution_count": null,
   "metadata": {
    "collapsed": true
   },
   "outputs": [],
   "source": [
    "def suma(x, y=4):\n",
    "    '''\n",
    "    Esta funcion permite sumar dos valores\n",
    "    suma(x, y=4)\n",
    "    '''\n",
    "    return x + y"
   ]
  },
  {
   "cell_type": "code",
   "execution_count": null,
   "metadata": {},
   "outputs": [],
   "source": [
    "suma(2, y=2)"
   ]
  },
  {
   "cell_type": "code",
   "execution_count": null,
   "metadata": {},
   "outputs": [],
   "source": [
    "help(suma)"
   ]
  },
  {
   "cell_type": "markdown",
   "metadata": {},
   "source": [
    "Otra forma de escribir funciones, aunque menos utilizada, es con la palabra clave lambda. Las funciones Lambda pueden ser usadas en cualquier lugar donde sea requerido un objeto de tipo función. Están sintácticamente restringidas a una sola expresión."
   ]
  },
  {
   "cell_type": "code",
   "execution_count": null,
   "metadata": {
    "collapsed": true
   },
   "outputs": [],
   "source": [
    "suma = lambda x, y = 2: x + y"
   ]
  },
  {
   "cell_type": "code",
   "execution_count": null,
   "metadata": {},
   "outputs": [],
   "source": [
    "suma(4)"
   ]
  },
  {
   "cell_type": "code",
   "execution_count": null,
   "metadata": {},
   "outputs": [],
   "source": [
    "suma(4,10)"
   ]
  },
  {
   "cell_type": "markdown",
   "metadata": {},
   "source": [
    "Al definir una función, podemos usar todos los operadores y sentencias que vimos en los tutoriales anteriores.\n",
    "\n",
    "Por ejemplo, podemos definir una función que calcule los números de Fibonacci"
   ]
  },
  {
   "cell_type": "code",
   "execution_count": null,
   "metadata": {
    "collapsed": true
   },
   "outputs": [],
   "source": [
    "def fibo(n):  # escribe la serie de Fibonacci hasta n\n",
    "    \"\"\"Escribe la serie de Fibonacci hasta el valor n.\"\"\"\n",
    "    a, b = 0, 1\n",
    "    while a < n:\n",
    "        print(a, end=' ')\n",
    "        a, b = b, a+b\n",
    "    print()"
   ]
  },
  {
   "cell_type": "code",
   "execution_count": null,
   "metadata": {},
   "outputs": [],
   "source": [
    "# Ahora llamamos a la funcion fib() que acabamos de definir\n",
    "\n",
    "fibo(2000)"
   ]
  },
  {
   "cell_type": "markdown",
   "metadata": {},
   "source": [
    "La primer sentencia del cuerpo de la función puede ser opcionalmente una cadena de texto literal. Esta es la cadena de texto de documentación de la función, o docstring."
   ]
  },
  {
   "cell_type": "code",
   "execution_count": null,
   "metadata": {
    "collapsed": true
   },
   "outputs": [],
   "source": [
    "help(fib)"
   ]
  },
  {
   "cell_type": "markdown",
   "metadata": {},
   "source": [
    "La ejecución de una función introduce una nueva tabla de símbolos usada para las variables locales de la función. Más precisamente, todas las asignaciones de variables en la función almacenan el valor en la tabla de símbolos local; así mismo la referencia a variables primero mira la tabla de símbolos local, luego en la tabla de símbolos local de las funciones externas, luego la tabla de símbolos global, y finalmente la tabla de nombres predefinidos.\n",
    "\n",
    "De esta manera, no se les puede asignar directamente un valor a las variables globales dentro de una función (a menos se las nombre en la sentencia global), aunque si pueden ser referenciadas.\n",
    "\n",
    "La definición de una función introduce el nombre de la función en la tabla de símbolos actual. El valor del nombre de la función tiene un tipo que es reconocido por el interprete como una función definida por el usuario. Este valor puede ser asignado a otro nombre que luego puede ser usado como una función. Esto sirve como un mecanismo general para renombrar:"
   ]
  },
  {
   "cell_type": "code",
   "execution_count": null,
   "metadata": {
    "collapsed": true
   },
   "outputs": [],
   "source": [
    "fib"
   ]
  },
  {
   "cell_type": "code",
   "execution_count": null,
   "metadata": {
    "collapsed": true
   },
   "outputs": [],
   "source": [
    "f = fib\n",
    "f(100)"
   ]
  },
  {
   "cell_type": "markdown",
   "metadata": {},
   "source": [
    "Viniendo de otros lenguajes, uno podría objetar que fib() no es una función sino más bien un procedimiento, pues no devuelve un valor."
   ]
  },
  {
   "cell_type": "code",
   "execution_count": null,
   "metadata": {
    "collapsed": true
   },
   "outputs": [],
   "source": [
    "fib(0)"
   ]
  },
  {
   "cell_type": "markdown",
   "metadata": {},
   "source": [
    "De hecho, técnicamente hablando, los procedimientos sí retornan un valor, aunque uno aburrido. Este valor se llama None (es un nombre predefinido).\n",
    "\n",
    "El intérprete por lo general no escribe el valor None si va a ser el único valor escrito. Si realmente se quiere, se puede verlo usando la función print()"
   ]
  },
  {
   "cell_type": "code",
   "execution_count": null,
   "metadata": {
    "collapsed": true
   },
   "outputs": [],
   "source": [
    "print(fib(0))"
   ]
  },
  {
   "cell_type": "markdown",
   "metadata": {},
   "source": [
    "Es simple escribir una función que retorne una lista con los números de la serie de Fibonacci en lugar de imprimirlos. Definiremos la función fib2()"
   ]
  },
  {
   "cell_type": "code",
   "execution_count": null,
   "metadata": {
    "collapsed": true
   },
   "outputs": [],
   "source": [
    "def fib2(n): # devuelve la serie de Fibonacci hasta n\n",
    "    \"\"\"Devuelve una lista conteniendo la serie de Fibonacci hasta n.\"\"\"\n",
    "    result = []\n",
    "    a, b = 0, 1\n",
    "    while a < n:\n",
    "        result.append(a)    # ver abajo\n",
    "        a, b = b, a+b\n",
    "    return result"
   ]
  },
  {
   "cell_type": "code",
   "execution_count": null,
   "metadata": {
    "collapsed": true
   },
   "outputs": [],
   "source": [
    "# Llamar a la función fib2()\n",
    "f100 = fib2(100)"
   ]
  },
  {
   "cell_type": "code",
   "execution_count": null,
   "metadata": {
    "collapsed": true
   },
   "outputs": [],
   "source": [
    "# Imprimir el resultado en pantalla\n",
    "f100"
   ]
  },
  {
   "cell_type": "markdown",
   "metadata": {},
   "source": [
    "### Funciones con argumentos variables\n",
    "Supongamos que queremos crear una función \"multiplica\" con 2 parámetros. Sería algo como lo siguiente:"
   ]
  },
  {
   "cell_type": "code",
   "execution_count": null,
   "metadata": {
    "collapsed": true
   },
   "outputs": [],
   "source": [
    "def multiplica(x,y):\n",
    "    return (x * y)\n",
    "\n",
    "multiplica(2,3)"
   ]
  },
  {
   "cell_type": "code",
   "execution_count": null,
   "metadata": {
    "collapsed": true
   },
   "outputs": [],
   "source": [
    "multiplica(2)"
   ]
  },
  {
   "cell_type": "markdown",
   "metadata": {},
   "source": [
    "¿Pero qué pasaría si quisiera multiplicar una cantidad de argumentos mayor que 2? Podríamos componer funciones, muy al estilo Excel:"
   ]
  },
  {
   "cell_type": "code",
   "execution_count": null,
   "metadata": {
    "collapsed": true,
    "scrolled": false
   },
   "outputs": [],
   "source": [
    "print( \"resultado: \", multiplica(2,multiplica(3,5)))"
   ]
  },
  {
   "cell_type": "markdown",
   "metadata": {},
   "source": [
    "Pero quisiéramos poder escribir algo como esto, que es más flexible:"
   ]
  },
  {
   "cell_type": "code",
   "execution_count": null,
   "metadata": {
    "collapsed": true
   },
   "outputs": [],
   "source": [
    "multiplica(2,3,5) "
   ]
  },
  {
   "cell_type": "markdown",
   "metadata": {},
   "source": [
    "... no podemos directamente, y es natural. Pero existe una forma en Python para definir una función con un número arbitrario de parámetros, no conocido en tiempo de diseño. Se vale de la utilización del argumento *args"
   ]
  },
  {
   "cell_type": "code",
   "execution_count": null,
   "metadata": {
    "collapsed": true
   },
   "outputs": [],
   "source": [
    "def multiplica(*args):\n",
    "    valor = 1\n",
    "    for num in args:\n",
    "        valor *= num\n",
    "    print(valor)"
   ]
  },
  {
   "cell_type": "markdown",
   "metadata": {},
   "source": [
    "Ahora podemos probar la nueva definición:"
   ]
  },
  {
   "cell_type": "code",
   "execution_count": null,
   "metadata": {
    "collapsed": true
   },
   "outputs": [],
   "source": [
    "multiplica(2,3,4,5)"
   ]
  },
  {
   "cell_type": "code",
   "execution_count": null,
   "metadata": {
    "collapsed": true
   },
   "outputs": [],
   "source": [
    "#multiplica(2,3,4,5)\n",
    "#multiplica(4,2)\n",
    "multiplica(1,2,3,4,5,6,7,8,9)"
   ]
  },
  {
   "cell_type": "markdown",
   "metadata": {},
   "source": [
    "## 2. Funciones de orden superior\n",
    "\n",
    "El concepto de funciones de orden superior se refiere al uso de funciones como si de un valor cualquiera se tratara, posibilitando el pasar funciones como parámetros de otras funciones o devolver funciones como valor de retorno. **Una función de orden superior** será la que puede recibir una función como parámetro o que la puede devolver.\n",
    "\n",
    "Esto es posible porque en Python todo son objetos. Y las funciones no son una excepción."
   ]
  },
  {
   "cell_type": "code",
   "execution_count": null,
   "metadata": {
    "collapsed": true
   },
   "outputs": [],
   "source": [
    "def saludar(lang):\n",
    "    \n",
    "    def saludar_es():\n",
    "        print(\"Hola\")\n",
    "        \n",
    "    def saludar_en():\n",
    "        print(\"Hi\")\n",
    "    \n",
    "    def saludar_fr():\n",
    "        print(\"Salut\")\n",
    "        \n",
    "    lang_func = {\"es\": saludar_es,\n",
    "                 \"en\": saludar_en,\n",
    "                 \"fr\": saludar_fr}\n",
    "    return lang_func[lang]\n",
    "\n",
    "f = saludar(\"en\")\n",
    "#f()"
   ]
  },
  {
   "cell_type": "code",
   "execution_count": null,
   "metadata": {},
   "outputs": [],
   "source": [
    "f()"
   ]
  },
  {
   "cell_type": "markdown",
   "metadata": {},
   "source": [
    "Como podemos observar lo primero que hacemos en nuestro pequeño programa es llamar a la función saludar con un parámetro \"es\". En la función saludar se defnen varias funciones: saludar_es, saludar_en y saludar_fr y a continuación se crea un diccionario que tiene como claves cadenas de texto que identifcan a cada lenguaje, y como valores las funciones.\n",
    "\n",
    "El valor de retorno de la función es una de estas funciones. La función a devolver viene determinada por el valor del parámetro lang que se pasó como argumento de saludar."
   ]
  },
  {
   "cell_type": "code",
   "execution_count": null,
   "metadata": {},
   "outputs": [],
   "source": [
    "f = saludar(\"es\")\n",
    "f()"
   ]
  },
  {
   "cell_type": "markdown",
   "metadata": {},
   "source": [
    "## 3. Iteraciones de orden superior sobre listas\n",
    "\n",
    "Una de las cosas más interesantes que podemos hacer con nuestras funciones de orden superior es pasarlas como argumentos de las funciones `map`, `filter` y `reduce`.\n",
    "\n",
    "- `map(function, sequence[, sequence, ...])`: La función map aplica una función a cada elemento de una secuencia y devuelve una lista con el resultado de aplicar la función a cada elemento.\n",
    "\n",
    "\n",
    "En Python 2 retornaba un lista, mientras que en Python 3 retorna un iterador."
   ]
  },
  {
   "cell_type": "code",
   "execution_count": null,
   "metadata": {
    "collapsed": true
   },
   "outputs": [],
   "source": [
    "def cuadrado(n):\n",
    "    return n ** 2\n",
    "\n",
    "x = [1, 2, 3]\n",
    "for i in x:\n",
    "    print(cuadrado(i))"
   ]
  },
  {
   "cell_type": "code",
   "execution_count": null,
   "metadata": {
    "collapsed": true
   },
   "outputs": [],
   "source": [
    "def cuadrado(n):\n",
    "    return n ** 2\n",
    "\n",
    "x = [1, 2, 3]\n",
    "y = map(cuadrado, x)\n",
    "\n",
    "print(\"x: \", x)\n",
    "print(\"y: \", y)\n",
    "print(\"y: \", list(y))"
   ]
  },
  {
   "cell_type": "markdown",
   "metadata": {},
   "source": [
    "- `filter(function, sequence)`: La funcion filter verifica que los elementos de una secuencia cumplan una determinada condición, devolviendo una secuencia con los elementos que cumplen esa condición."
   ]
  },
  {
   "cell_type": "code",
   "execution_count": null,
   "metadata": {
    "collapsed": true
   },
   "outputs": [],
   "source": [
    "def es_par(n):\n",
    "    return (n % 2.0 == 0)\n",
    "\n",
    "x = [1, 2, 3]\n",
    "y = filter(es_par, x)\n",
    "\n",
    "print(\"x: \", x)\n",
    "print(\"y: \", y)\n",
    "print(\"y: \", list(y))"
   ]
  },
  {
   "cell_type": "markdown",
   "metadata": {},
   "source": [
    "- `reduce(function, sequence[, initial])`: La función reduce aplica una función a pares de elementos de una secuencia hasta dejarla en un solo valor.\n",
    "\n",
    "La función reduce() es una función nativa de Python 2, mientras que en Python 3 fue movida dentro del módulo functools"
   ]
  },
  {
   "cell_type": "code",
   "execution_count": null,
   "metadata": {
    "collapsed": true
   },
   "outputs": [],
   "source": [
    "from functools import reduce\n",
    "\n",
    "def sumar(x, y):\n",
    "    return x + y\n",
    "\n",
    "x = [1, 2, 3]\n",
    "y = reduce(sumar, x)\n",
    "\n",
    "print(\"x: \", x)\n",
    "print(\"y: \", y)"
   ]
  },
  {
   "cell_type": "markdown",
   "metadata": {},
   "source": [
    "## 4. Funciones lambda\n",
    "\n",
    "El operador lambda sirve para crear funciones anónimas en línea. Al ser funciones anónimas, es decir, sin nombre, estas no podrán ser referenciadas más tarde.\n",
    "\n",
    "Las funciones lambda se construyen mediante el operador `lambda`, los parámetros de la función separados por comas (**sin paréntesis**), dos puntos (:) y el código de la función.\n",
    "\n",
    "Esta construcción podrían haber sido de utilidad en los ejemplos anteriores para reducir código. El programa que utilizamos para explicar filter, por ejemplo, podría expresarse así:"
   ]
  },
  {
   "cell_type": "code",
   "execution_count": null,
   "metadata": {
    "collapsed": true
   },
   "outputs": [],
   "source": [
    "x = [1, 2, 3]\n",
    "y = filter(lambda n: n % 2.0 == 0, x)\n",
    "\n",
    "print(x)\n",
    "print(list(y))"
   ]
  },
  {
   "cell_type": "markdown",
   "metadata": {},
   "source": [
    "---\n",
    "# Ejercicios\n",
    "\n",
    "Realice los siguientes ejercicios. En caso de tener dudas, puede apoyarse con sus compañeros, preguntarle al profesor y hacer búsquedas en internet.\n"
   ]
  },
  {
   "cell_type": "markdown",
   "metadata": {},
   "source": [
    "1. Cree una función llamada **resta** la cual permita restar dos valores que son ingresados como parámetros. El primer parámetro se llama `minuendo` y es obligatorio, mientras que el segundo parámetro se llama `sustraendo` y es opcional. Por defecto, el parámetro `sustraendo` debe tomar el valor de 0.<br><br>\n",
    "2. Evalue la función resta anterior para los siguientes dos casos,\n",
    "    1. minuendo=20\n",
    "    2. minuendo=20, sustraendo=10\n",
    "    "
   ]
  },
  {
   "cell_type": "code",
   "execution_count": null,
   "metadata": {
    "collapsed": true
   },
   "outputs": [],
   "source": []
  },
  {
   "cell_type": "markdown",
   "metadata": {},
   "source": [
    "1. Las temperaturas en grados Celcius registradas en los últimos 5 días en Santiago fueron las siguientes: `temperatura=[33.0, 31,5, 29.4, 30.0, 28.8]`. Defina una función que permita transformar de grados Celcius a Farenheit y use la función `map()` para transformar los valores de la lista temperatura.<br><br>\n",
    "2. Cree una función que permita calcular los primeros 11 números de Fibonacci y luego use la función `filter()` para crear una lista que contenga solo los números pares."
   ]
  },
  {
   "cell_type": "code",
   "execution_count": null,
   "metadata": {
    "collapsed": true
   },
   "outputs": [],
   "source": []
  },
  {
   "cell_type": "markdown",
   "metadata": {},
   "source": [
    "1. Dada la lista de elementos `x=[47,11,42,102,13]`, use solamente las funciones `reduce()` y `lambda()` para determinar el número máximo de esta lista."
   ]
  },
  {
   "cell_type": "code",
   "execution_count": null,
   "metadata": {
    "collapsed": true
   },
   "outputs": [],
   "source": []
  }
 ],
 "metadata": {
  "kernelspec": {
   "display_name": "Python 3",
   "language": "python",
   "name": "python3"
  },
  "language_info": {
   "codemirror_mode": {
    "name": "ipython",
    "version": 3
   },
   "file_extension": ".py",
   "mimetype": "text/x-python",
   "name": "python",
   "nbconvert_exporter": "python",
   "pygments_lexer": "ipython3",
   "version": "3.6.4"
  }
 },
 "nbformat": 4,
 "nbformat_minor": 2
}
