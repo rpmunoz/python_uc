{
 "cells": [
  {
   "cell_type": "markdown",
   "metadata": {},
   "source": [
    "# Cómo usar Python\n",
    "\n",
    "**Autor:** Roberto Muñoz <br />\n",
    "**E-mail:** <rmunoz@metricarts.com> <br />\n",
    "**Github:** <https://github.com/rpmunoz> <br />\n",
    "\n",
    "**Python** es un lenguaje de programación **abierto** que fue creado por Guido van Rossum el año 1991. Python es uno de los lenguajes más empleados por la comunidad de Data Science en el mundo y cuenta con un gran número de librerías para procesar, analizar y visualizar datos."
   ]
  },
  {
   "cell_type": "markdown",
   "metadata": {},
   "source": [
    "La distribución Anaconda incluye binarios, librerías y kernel de Python. Los archivos binarios (ejecutables) permiten ejecutar código Python desde una terminal, mientras que los kernel permiten levantar una instancia de Python en un Jupyter notebook.\n",
    "\n",
    "Los modos más comunes para escribir y ejecutar código de Python son los siguientes,\n",
    "\n",
    "- Intérprete estándar de Python\n",
    "- Intérprete interactivo de Python\n",
    "- Jupyter notebook"
   ]
  },
  {
   "cell_type": "markdown",
   "metadata": {},
   "source": [
    "## 1. Intérprete estándar de Python\n",
    "\n",
    "La manera más estandar para ejecutar código en Python es usar el intérprete de Python. El intérprete de Python es un programa que lee y ejecuta código de Python, ya sea tecleado directamente en la consola o desde un archivo previamente guardado.\n",
    "\n",
    "Para ejecutar el intérprete de Python, abra una consola del Sistema Operativo (*Anaconda command prompt* en Windows, *terminal* en Linux y OSX), luego escriba el comando `python` y presione `Enter`.\n",
    "\n",
    "```\n",
    "$ python\n",
    "```\n",
    "\n",
    "Ejecutaremos nuestro primer comando en el intérprete de Python. Escriba el comando `print(\"Hola mundo\")` y luego presione Enter.\n",
    "\n",
    "```\n",
    ">>> print(\"Hola mundo\")\n",
    "```\n",
    "\n",
    "Para salir del intérprete, simplemente ejecute el comando `exit()``\n",
    "\n",
    "```\n",
    ">>> exit()\n",
    "```\n",
    "\n",
    "<img src=\"images/python-screenshot.jpg\" width=\"600\">\n",
    "\n",
    "El intérprete de Python es fácil de usar y permite ejecutar código de Python en modo batch. No es muy empleado en Data Science, pues tiene algunas limitaciones debido a su interfaz gráfica."
   ]
  },
  {
   "cell_type": "markdown",
   "metadata": {},
   "source": [
    "## 2. Intérprete interactivo de Python\n",
    "\n",
    "El Intérprete interactivo de Python o IPython es una consola interactiva que soluciona algunas de las limitaciones del intérprete estándar de Python. IPython provee al usuario de una consola interactiva y hace mas amigable la ejecución de código Python.\n",
    "\n",
    "Para ejecutar el intérprete de Python, abra una consola del Sistema Operativo (*Anaconda command prompt* en Windows, *terminal* en Linux y OSX), luego escriba el comando `ipython` y presione `Enter`.\n",
    "\n",
    "```\n",
    "$ ipython\n",
    "```\n",
    "\n",
    "<img src=\"images/ipython-screenshot.jpg\" width=\"600\">\n",
    "\n",
    "Algunas de las características que incluye IPython son las siguientes,\n",
    "\n",
    "- Historia de los comandos, la cual puede navegarse usando la flechas arriba y abajo del teclado.\n",
    "- Autocompletado de comandos y variables usando la tecla Tab.\n",
    "- Edición de comandos directamente en la consola\n",
    "- Revisión de objetos y extracción automática de documentación de objetos de Python como clases y funciones\n",
    "- Excelente capacidad de interacción con consola del sistema operativo\n",
    "- Soporte para múltiples procesos de back-end paralelos, los cuales pueden correr en clusters o servicios cloud."
   ]
  },
  {
   "cell_type": "markdown",
   "metadata": {},
   "source": [
    "## 3. IDEs más populares de Python\n",
    "\n",
    "Los programadores y analistas de datos tienen costrumbre de usar aplicaciones IDE (Integrated development environment) para desarrollar algoritmos y software.\n",
    "\n",
    "Python no es la excepción y cuenta con múltiples IDEs. Entre ellos destacan\n",
    "\n",
    "- Jupyter notebook\n",
    "- Spyder\n",
    "- Pycharm"
   ]
  },
  {
   "cell_type": "markdown",
   "metadata": {},
   "source": [
    "## 3.1 Jupyter notebook\n",
    "\n",
    "<a href=\"http://jupyter.org/\">Jupyter notebook</a> es una aplicación web que permite generar y compartir documentos (notebooks) que contienen código, ecuaciones, visualizaciones y textos explicativos. Su interfaz es similar a la que ofrece Mathematica o Mapple.\n",
    "\n",
    "Un notebook consiste de una serie de celdas, las cuales pueden crearse y organizarse de maera libre. Estas celdas pueden contener código o texto en formato Markdown. Una de sus principales ventajas es que se puede orgnaizar la información de una manera estructurada.\n",
    "\n",
    "Para ejecutar el Jupyter Notebook, abra una consola del Sistema Operativo (*Anaconda command prompt* en Windows, *terminal* en Linux y OSX), luego escriba el comando `jupyter-notebook` y presione `Enter`.\n",
    "\n",
    "```\n",
    "$ jupyter-notebook\n",
    "```\n",
    "\n",
    "<img src=\"images/IDE_jupyter_notebook.png\" widt=\"600\">\n",
    "\n",
    "\n",
    "Este comando abrirá una nueva ventana en su navegador web (o viñeta en caso de ya estar abierto el navegador) y mostrará el sistema de archivos del sistema. Usualmente, el URL del Jupyter notebook es <http://localhost:8888>"
   ]
  },
  {
   "cell_type": "markdown",
   "metadata": {
    "collapsed": true
   },
   "source": [
    "## 3.2 Spyder\n",
    "\n",
    "<a href=\"https://github.com/spyder-ide/spyder\">Spyder</a> es un IDE de código abierto y multi-plataforma que permite ejecutar código de Python en modo interactivo.\n",
    "\n",
    "La interfaz de Spyder es muy intuitiva y su curva de aprendizaje es baja. Para aquellas personas que tengan experiencia con R-studio notarán que la interfaz es muy similar.\n",
    "\n",
    "Spyder viene incluido en la distribución Anaconda y puede ser instalado fácilmente.\n",
    "Para aquellos que quieran instalarlo desde la terminal usando pip, simplemente deben ejecutar las siguientes líneas.\n",
    "\n",
    "```\n",
    "$ sudo pip3 install pyqt5\n",
    "$ sudo pip3 install spyder\n",
    "```\n",
    "\n",
    "<img src=\"images/IDE_spyder.png\" widt=\"600\">"
   ]
  },
  {
   "cell_type": "markdown",
   "metadata": {},
   "source": [
    "## 3.3 Pycharm\n",
    "\n",
    "<a href=\"https://www.jetbrains.com/pycharm/\">Pycharm</a> es un IDE desarrollado por la empresa JetBrains, la cual es famosa por el IDE de Java IntelliJ IDEA.\n",
    "\n",
    "PyCharm es perfecto para aquellas personas que tienen experiencia con otras aplicaciones de Jetbrains, pues su interfaz es similar a los otros IDEs que ofrece la empresa. PyCharm se integra fácilmente con la distribución Anaconda, permitiendo usar directamente las librerías como Numpy y Matplotlib.\n",
    "\n",
    "<img src=\"images/IDE_pycharm.png\" widt=\"600\">"
   ]
  },
  {
   "cell_type": "code",
   "execution_count": null,
   "metadata": {
    "collapsed": true
   },
   "outputs": [],
   "source": []
  }
 ],
 "metadata": {
  "kernelspec": {
   "display_name": "Python 3",
   "language": "python",
   "name": "python3"
  },
  "language_info": {
   "codemirror_mode": {
    "name": "ipython",
    "version": 3
   },
   "file_extension": ".py",
   "mimetype": "text/x-python",
   "name": "python",
   "nbconvert_exporter": "python",
   "pygments_lexer": "ipython3",
   "version": "3.6.4"
  }
 },
 "nbformat": 4,
 "nbformat_minor": 1
}
