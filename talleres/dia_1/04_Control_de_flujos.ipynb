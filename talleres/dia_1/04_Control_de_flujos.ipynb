{
 "cells": [
  {
   "cell_type": "markdown",
   "metadata": {},
   "source": [
    "# Uso de sentencias de control de flujo\n",
    "\n",
    "**Autor:** Roberto Muñoz <br />\n",
    "**E-mail:** <rmunoz@metricarts.com> <br />\n",
    "**Github:** <https://github.com/rpmunoz> <br />\n",
    "\n",
    "Python soporta las sentencias de control de flujo que podemos encontrar similarmente en otros lenguajes de programación tales como C, C++, C#, Basic, R, Java y varios otros.\n",
    "\n",
    "Las sentencias presentes en Python 3.6 son\n",
    "\n",
    "- If\n",
    "- Else\n",
    "\n",
    "- While\n",
    "- For\n",
    "- Break\n",
    "- Continue\n",
    "- Pass\n",
    "\n",
    "- Try\n",
    "- With\n"
   ]
  },
  {
   "cell_type": "markdown",
   "metadata": {},
   "source": [
    "## 1. If\n",
    "\n",
    "La sentencia if es quizás la más conocida. Esta sentencia se usa para ejecución condicional de código.\n",
    "\n",
    "Puede haber cero o más bloques elif, y el bloque else es opcional. La palabra reservada ‘elif‘ es una abreviación de ‘else if’, y es útil para evitar un sangrado excesivo.\n",
    "\n",
    "Una secuencia if ... elif ... elif ... sustituye las sentencias switch o case encontradas en otros lenguajes."
   ]
  },
  {
   "cell_type": "code",
   "execution_count": 2,
   "metadata": {},
   "outputs": [
    {
     "name": "stdout",
     "output_type": "stream",
     "text": [
      "Mayor a uno\n",
      "Valor:  10\n"
     ]
    }
   ],
   "source": [
    "x=10\n",
    "\n",
    "if x < 0:\n",
    "    x = 0\n",
    "    print('Negativo cambiado a cero')\n",
    "elif x == 0:\n",
    "    print('Cero')\n",
    "elif x == 1:\n",
    "    print('Igual a uno')\n",
    "else:\n",
    "    print('Mayor a uno')\n",
    "    \n",
    "print(\"Valor: \", x)"
   ]
  },
  {
   "cell_type": "markdown",
   "metadata": {},
   "source": [
    "Podríamos hacer una comparativa entre Python y Java"
   ]
  },
  {
   "cell_type": "code",
   "execution_count": 5,
   "metadata": {},
   "outputs": [
    {
     "name": "stdout",
     "output_type": "stream",
     "text": [
      "No es un color valido\n"
     ]
    }
   ],
   "source": [
    "# Código en Python\n",
    "\n",
    "fav=\"color rojo\"\n",
    "\n",
    "if fav == \"color azul\":\n",
    "    print(\"Tienes buen gusto!\")\n",
    "    print(\"Gracias\")\n",
    "else:\n",
    "    print(\"No es un color valido\")"
   ]
  },
  {
   "cell_type": "markdown",
   "metadata": {},
   "source": [
    "    # Código en Java\n",
    "\n",
    "```java\n",
    "String fav = \"color azul\"\n",
    "if (fav.equals(\"color azul\")){\n",
    "    System.out.println(\"Tienes buen gusto!\");\n",
    "    System.out.println(\"Gracias\");\n",
    "}\n",
    "```"
   ]
  },
  {
   "cell_type": "markdown",
   "metadata": {},
   "source": [
    "## 2. While\n",
    "\n",
    "La sentencia **while** es usada para repetir la ejecución de un código mientras la condición sea verdadera.\n",
    "\n",
    "El primer bloque corresponde al código que se ejecuta mientras la condición sea verdadera. Se puede crear un segundo bloque opcional con la sentencia else, la cual permite ejecutar ese bloque antes de terminar la ejecución del bucle while.\n",
    "\n",
    "Se pueden usar las sentencias **break** y **continue** en el primer bloque."
   ]
  },
  {
   "cell_type": "code",
   "execution_count": null,
   "metadata": {
    "collapsed": true
   },
   "outputs": [],
   "source": [
    "a=0\n",
    "b=1"
   ]
  },
  {
   "cell_type": "code",
   "execution_count": 8,
   "metadata": {},
   "outputs": [
    {
     "name": "stdout",
     "output_type": "stream",
     "text": [
      "0\n",
      "1\n",
      "2\n",
      "3\n",
      "4\n",
      "5\n",
      "6\n",
      "7\n",
      "8\n",
      "9\n",
      "Fin\n"
     ]
    }
   ],
   "source": [
    "a=0\n",
    "while a<50.6:\n",
    "    if a<10:\n",
    "        print(a)\n",
    "    a=a+0.2\n",
    "    \n",
    "print(\"Fin\")"
   ]
  },
  {
   "cell_type": "code",
   "execution_count": null,
   "metadata": {
    "collapsed": true
   },
   "outputs": [],
   "source": [
    "a"
   ]
  },
  {
   "cell_type": "code",
   "execution_count": 9,
   "metadata": {},
   "outputs": [
    {
     "name": "stdout",
     "output_type": "stream",
     "text": [
      "[1, 2, 3]\n"
     ]
    }
   ],
   "source": [
    "x=[1,2,3]\n",
    "print(x)"
   ]
  },
  {
   "cell_type": "code",
   "execution_count": 13,
   "metadata": {},
   "outputs": [
    {
     "name": "stdout",
     "output_type": "stream",
     "text": [
      "1,2,3,"
     ]
    }
   ],
   "source": [
    "for i in x:\n",
    "    print(i, end=\",\")"
   ]
  },
  {
   "cell_type": "code",
   "execution_count": 16,
   "metadata": {},
   "outputs": [
    {
     "name": "stdout",
     "output_type": "stream",
     "text": [
      "1 - 1 - 2 - 3 - 5 - 8 - 13 - 21 - 34 - 55 - 89 - 144 - 233 - 377 - 610 - 987 - "
     ]
    }
   ],
   "source": [
    "a, b = 0, 1\n",
    "while b < 1000:\n",
    "    print(b, end=' - ')\n",
    "    \n",
    "#    a=b\n",
    "#    b=a+b   \n",
    "    a, b = b, a+b"
   ]
  },
  {
   "cell_type": "code",
   "execution_count": 17,
   "metadata": {},
   "outputs": [
    {
     "name": "stdout",
     "output_type": "stream",
     "text": [
      "1,1,2,3,5,8,13,21,34,55,89,144,233,377,610,987,\n",
      "El valor de b es mayor que 1000\n"
     ]
    }
   ],
   "source": [
    "a, b = 0, 1\n",
    "while b < 1000:\n",
    "    print(b, end=',')\n",
    "    a, b = b, a+b\n",
    "else:\n",
    "    print(\"\\nEl valor de b es mayor que 1000\")"
   ]
  },
  {
   "cell_type": "code",
   "execution_count": null,
   "metadata": {
    "collapsed": true
   },
   "outputs": [],
   "source": [
    "a, b = 0, 1\n",
    "while b < 1000:\n",
    "    print(b, end=',')\n",
    "    a, b = b, a+b\n",
    "    if b>100:\n",
    "        break"
   ]
  },
  {
   "cell_type": "markdown",
   "metadata": {},
   "source": [
    "## 3. For\n",
    "\n",
    "La sentencia for se usa para iterar sobre los elementos que pertenecen a una secuencia del tipo string, tupla, lista o cualquier otro objeto iterable.\n",
    "\n",
    "La sentencia for en Python difiere un poco de lo que uno puede estar acostumbrado en lenguajes como C o Pascal. En lugar de siempre iterar sobre una progresión aritmética de números (como en Pascal) o darle al usuario la posibilidad de definir tanto el paso de la iteración como la condición de fin (como en C), la sentencia for de Python itera sobre los ítems de cualquier secuencia (una lista o una cadena de texto), en el orden que aparecen en la secuencia."
   ]
  },
  {
   "cell_type": "code",
   "execution_count": 25,
   "metadata": {},
   "outputs": [
    {
     "name": "stdout",
     "output_type": "stream",
     "text": [
      "gato 4\n",
      "ventana 7\n",
      "pájaro 6\n"
     ]
    }
   ],
   "source": [
    "palabras = ['gato', 'ventana', 'pájaro']\n",
    "for p in palabras:\n",
    "    print(p, len(p))"
   ]
  },
  {
   "cell_type": "code",
   "execution_count": 22,
   "metadata": {},
   "outputs": [
    {
     "name": "stdout",
     "output_type": "stream",
     "text": [
      "1\n",
      "2\n",
      "3\n",
      "4\n"
     ]
    }
   ],
   "source": [
    "palabras = [1,2,3,4]\n",
    "for p in palabras:\n",
    "    print(p)"
   ]
  },
  {
   "cell_type": "code",
   "execution_count": 23,
   "metadata": {},
   "outputs": [
    {
     "data": {
      "text/plain": [
       "4"
      ]
     },
     "execution_count": 23,
     "metadata": {},
     "output_type": "execute_result"
    }
   ],
   "source": [
    "p"
   ]
  },
  {
   "cell_type": "code",
   "execution_count": 20,
   "metadata": {},
   "outputs": [
    {
     "data": {
      "text/plain": [
       "3"
      ]
     },
     "execution_count": 20,
     "metadata": {},
     "output_type": "execute_result"
    }
   ],
   "source": [
    "len(palabras)"
   ]
  },
  {
   "cell_type": "code",
   "execution_count": 26,
   "metadata": {},
   "outputs": [
    {
     "name": "stdout",
     "output_type": "stream",
     "text": [
      "gato\n",
      "ventana\n",
      "pájaro\n"
     ]
    }
   ],
   "source": [
    "for i in range(len(palabras)):\n",
    "    print(palabras[i])"
   ]
  },
  {
   "cell_type": "markdown",
   "metadata": {},
   "source": [
    "## 4. Try\n",
    "\n",
    "La sentencia try se usa para el manejo de excepciones y/o la limpieza de código para un grupo de expresiones.\n",
    "\n",
    "Es posible escribir programas que manejen determinadas excepciones. En el siguiente ejemplo se le pide al usuario una entrada hasta que ingrese un entero válido, pero permite al usuario interrumpir el programa (usando Control-C o lo que sea que el sistema operativo soporte).\n",
    "\n",
    "Notar que una interrupción generada por el usuario se señaliza generando la excepción KeyboardInterrupt."
   ]
  },
  {
   "cell_type": "code",
   "execution_count": null,
   "metadata": {
    "collapsed": true
   },
   "outputs": [],
   "source": [
    "while True:\n",
    "    try:\n",
    "        x = int(input(\"Por favor ingrese un número: \"))\n",
    "        break\n",
    "    except ValueError:\n",
    "        print(\"Oops! No era válido. Intente nuevamente...\")"
   ]
  },
  {
   "cell_type": "markdown",
   "metadata": {},
   "source": [
    "La declaración try funciona de la siguiente manera:\n",
    "\n",
    "- Primero, se ejecuta el bloque try (el código entre las declaración try y except).\n",
    "- Si no ocurre ninguna excepción, el bloque except se salta y termina la ejecución de la declaración try.\n",
    "- Si ocurre una excepción durante la ejecución del bloque try, el resto del bloque se salta. Luego, si su tipo coincide con la excepción nombrada luego de la palabra reservada except, se ejecuta el bloque except, y la ejecución continúa luego de la declaración try.\n",
    "- Si ocurre una excepción que no coincide con la excepción nombrada en el except, esta se pasa a declaraciones try de más afuera; si no se encuentra nada que la maneje, es una excepción no manejada, y la ejecución se frena con un mensaje como los mostrados arriba.\n",
    "\n",
    "Una declaración try puede tener más de un except, para especificar manejadores para distintas excepciones. A lo sumo un manejador será ejecutado.\n",
    "\n",
    "Sólo se manejan excepciones que ocurren en el correspondiente try, no en otros manejadores del mismo try. Un except puede nombrar múltiples excepciones usando paréntesis, por ejemplo:"
   ]
  },
  {
   "cell_type": "code",
   "execution_count": null,
   "metadata": {
    "collapsed": true
   },
   "outputs": [],
   "source": [
    "while True:\n",
    "    try:\n",
    "        x = int(input(\"Por favor ingrese un número: \"))\n",
    "        break\n",
    "    except (ValueError, RuntimeError, TypeError, NameError):\n",
    "        print(\"Oops! No era válido. Intente nuevamente...\")"
   ]
  },
  {
   "cell_type": "markdown",
   "metadata": {},
   "source": [
    "Las declaraciones try ... except tienen un **bloque else** opcional, el cual, cuando está presente, debe seguir a los except. Es útil para aquel código que debe ejecutarse si el bloque try no genera una excepción. Por ejemplo,"
   ]
  },
  {
   "cell_type": "code",
   "execution_count": null,
   "metadata": {
    "collapsed": true
   },
   "outputs": [],
   "source": [
    "try:\n",
    "    file='data/Gobierno transparente - Registro atenciones - SML.csv'\n",
    "    f = open(file)\n",
    "except OSError:\n",
    "    print(\"No se pudo abrir el archivo \", file)\n",
    "else:\n",
    "    print(\"Archivo abierto de manera correcta \", file)\n",
    "    print(\"El archivo tiene \", len(f.readlines()), 'lineas')\n",
    "    f.close()"
   ]
  },
  {
   "cell_type": "code",
   "execution_count": null,
   "metadata": {
    "collapsed": true
   },
   "outputs": [],
   "source": [
    "f"
   ]
  },
  {
   "cell_type": "markdown",
   "metadata": {},
   "source": [
    "---\n",
    "\n",
    "# Ejercicios\n",
    "\n",
    "Realice los siguientes ejercicios. En caso de tener dudas, puede apoyarse con sus compañeros, preguntarle al profesor y hacer búsquedas en internet."
   ]
  },
  {
   "cell_type": "markdown",
   "metadata": {},
   "source": [
    "1. Use una sentencia `for` para calcular la suma de todos los números entre el 1 y el 100. <br><br>\n",
    "2. Use alguna sentencia que permita calcular la suma de todos los números entre el 1 y 100 y que use un máximo de 50 iteraciones. <br><br>\n",
    "3. Use alguna sentencia que permita sumar los números primos entre el 1 y el 100."
   ]
  },
  {
   "cell_type": "code",
   "execution_count": null,
   "metadata": {
    "collapsed": true
   },
   "outputs": [],
   "source": []
  },
  {
   "cell_type": "code",
   "execution_count": null,
   "metadata": {
    "collapsed": true
   },
   "outputs": [],
   "source": []
  }
 ],
 "metadata": {
  "kernelspec": {
   "display_name": "Python 3",
   "language": "python",
   "name": "python3"
  },
  "language_info": {
   "codemirror_mode": {
    "name": "ipython",
    "version": 3
   },
   "file_extension": ".py",
   "mimetype": "text/x-python",
   "name": "python",
   "nbconvert_exporter": "python",
   "pygments_lexer": "ipython3",
   "version": "3.6.4"
  }
 },
 "nbformat": 4,
 "nbformat_minor": 2
}
