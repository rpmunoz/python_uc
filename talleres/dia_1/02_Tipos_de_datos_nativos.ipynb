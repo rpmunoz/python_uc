{
 "cells": [
  {
   "cell_type": "markdown",
   "metadata": {},
   "source": [
    "# Introducción a Python\n",
    "\n",
    "**Autor:** Roberto Muñoz <br />\n",
    "**E-mail:** <rmunoz@metricarts.com> <br />\n",
    "**Github:** <https://github.com/rpmunoz> <br />\n",
    "\n",
    "Python es un lenguaje de programación que fue desarrollado por Guido van Rossum y es distribuido como código abierto. Se puede descargar gratuitamente desde internet e instalar en cualquier computador. En este curso usaremos la versión distribuida por [Anaconda](https://www.continuum.io/downloads).\n",
    "\n",
    "## 1. Uso de simbolo # y función print()\n",
    "\n",
    "Las líneas que comienzan con `#` Python las considera como comentarios y no se ejecutan.\n",
    "\n",
    "La función `print()` permite mostrar en pantalla tanto texto como valores de variables, siempre y cuando los elementos a mostrar estén separados por comas.\n",
    "\n",
    "En Python 2 la función print no usaba paréntesis, mientras que en Python 3 es obligatorio."
   ]
  },
  {
   "cell_type": "code",
   "execution_count": null,
   "metadata": {},
   "outputs": [],
   "source": [
    "# Esto es un comentario\n",
    "# esto es un comentario nuevo\n",
    "\n",
    "'''\n",
    "Estos es un comentario linea 1\n",
    "linea 2\n",
    "'''\n",
    "\n",
    "print(\"Hola clase\")  # Este comando imprime un mensaje"
   ]
  },
  {
   "cell_type": "markdown",
   "metadata": {},
   "source": [
    "## 2. Uso de indentación\n",
    "\n",
    "La forma más popular de indentar en Python es utilizar sólo espacios. La segunda forma más popular es usar sólo tabuladores. El código indentado con una mezcla de tabuladores y espacios debería reformatearse y usar espacios exclusivamente.\n",
    "\n",
    "Se recomienda usar 4 espacios por cada nivel de indentación."
   ]
  },
  {
   "cell_type": "code",
   "execution_count": null,
   "metadata": {
    "collapsed": true
   },
   "outputs": [],
   "source": [
    "funcion() {\n",
    "    a=10\n",
    "    print(a)\n",
    "}"
   ]
  },
  {
   "cell_type": "code",
   "execution_count": null,
   "metadata": {},
   "outputs": [],
   "source": [
    "    print(\"Hola\")\n",
    "print(\"Hola\")"
   ]
  },
  {
   "cell_type": "code",
   "execution_count": null,
   "metadata": {},
   "outputs": [],
   "source": [
    "if True:\n",
    "    texto=\"Hola mundo\"\n",
    "    print(texto)\n",
    "\n",
    "print(texto)"
   ]
  },
  {
   "cell_type": "markdown",
   "metadata": {},
   "source": [
    "## 3. Medir de tiempos de ejecución\n",
    "\n",
    "Existen múltiples maneras de medir el tiempo de ejecución de un código de Python. En ipython y Jupyter notebook los más usados son\n",
    "\n",
    "- `%time`: Tiempo de ejecución de una instrucción simple\n",
    "- `%timeit`: Tiempo de ejecución de una instrucción simple usando multiples repeticiones para obtener mayor precisión\n",
    "\n",
    "\n",
    "- `%%time`: Símil de %time, pero permite ejecutar scripts en múltiples líneas\n",
    "- `%%timeit`: Símil de %timeit, pero permite ejecutar scripts en múltiples líneas"
   ]
  },
  {
   "cell_type": "code",
   "execution_count": null,
   "metadata": {
    "collapsed": true
   },
   "outputs": [],
   "source": [
    "range(100)"
   ]
  },
  {
   "cell_type": "code",
   "execution_count": null,
   "metadata": {},
   "outputs": [],
   "source": [
    "%time sum(range(1000))"
   ]
  },
  {
   "cell_type": "code",
   "execution_count": null,
   "metadata": {},
   "outputs": [],
   "source": [
    "%timeit sum(range(1000))"
   ]
  },
  {
   "cell_type": "code",
   "execution_count": null,
   "metadata": {
    "collapsed": true
   },
   "outputs": [],
   "source": [
    "%%time\n",
    "def sumar(n):\n",
    "    return sum(range(n))\n",
    "\n",
    "n=1000\n",
    "sumar(n)"
   ]
  },
  {
   "cell_type": "code",
   "execution_count": null,
   "metadata": {
    "collapsed": true
   },
   "outputs": [],
   "source": [
    "%%timeit\n",
    "def sumar(n):\n",
    "    return sum(range(n))\n",
    "\n",
    "n=1000\n",
    "sumar(n)"
   ]
  },
  {
   "cell_type": "markdown",
   "metadata": {},
   "source": [
    "## 4. Tipos de datos\n",
    "\n",
    "En el lenguaje Python, así como en la mayoría de lenguajes de programación, hay distintos tipos de variables.\n",
    "\n",
    "Los tipos de variables en Python son,\n",
    "\n",
    "1. Booleanos\n",
    "1. Numéricos\n",
    "1. Cadenas de caractéres o Strings\n",
    "1. Datos binarios o Bytes\n",
    "1. Listas\n",
    "1. Tuplas\n",
    "1. Rangos\n",
    "1. Conjuntos o Sets\n",
    "1. Diccionarios"
   ]
  },
  {
   "cell_type": "markdown",
   "metadata": {},
   "source": [
    "## 4.1 Booleanos\n",
    "\n",
    "Los tipos de datos booleanos pueden tomar dos valores: Verdadero (True) o Falso (False). Se pueden declarar variables con un valor de tipo booleano y también evaluar expresiones para obtener un valor tipo booleano."
   ]
  },
  {
   "cell_type": "code",
   "execution_count": null,
   "metadata": {},
   "outputs": [],
   "source": [
    "x=True\n",
    "print(x, type(x))"
   ]
  },
  {
   "cell_type": "code",
   "execution_count": null,
   "metadata": {},
   "outputs": [],
   "source": [
    "x=4\n",
    "print(x < 5)"
   ]
  },
  {
   "cell_type": "markdown",
   "metadata": {},
   "source": [
    "## 4.2 Numéricos\n",
    "\n",
    "Los tipos de datos numéricos son ampliamente usados en Python. Existen 3 tipos importantes,\n",
    "\n",
    "- Números enteros (\"int\" del inglés integer, entero)\n",
    "- Números racionales (\"float\" del inglés floating point, punto flotante)\n",
    "- Números complejos (\"complex\" del inglés complex, complejo)\n",
    "\n",
    "En Python 2 existía int (entero corto) y long (entero largo). En Python 3 sólo existe int y se comporta como el long antiguo."
   ]
  },
  {
   "cell_type": "markdown",
   "metadata": {},
   "source": [
    "### Tipo de dato entero"
   ]
  },
  {
   "cell_type": "code",
   "execution_count": null,
   "metadata": {},
   "outputs": [],
   "source": [
    "# Usando la función int()\n",
    "\n",
    "x=int(2)\n",
    "print(x, type(x))"
   ]
  },
  {
   "cell_type": "code",
   "execution_count": null,
   "metadata": {
    "collapsed": true
   },
   "outputs": [],
   "source": [
    "x.__abs__"
   ]
  },
  {
   "cell_type": "code",
   "execution_count": null,
   "metadata": {
    "scrolled": true
   },
   "outputs": [],
   "source": [
    "help(int)"
   ]
  },
  {
   "cell_type": "markdown",
   "metadata": {},
   "source": [
    "Los métodos que empiezan y terminan con doble guión bajo (\\_\\_) se usan para indicar que son objetos o atributos mágicos. Estos métodos pueden ser invocados directamente, pero su propósito es ser ejecutados de manera indirecta."
   ]
  },
  {
   "cell_type": "code",
   "execution_count": null,
   "metadata": {},
   "outputs": [],
   "source": [
    "x.__abs__()"
   ]
  },
  {
   "cell_type": "code",
   "execution_count": null,
   "metadata": {},
   "outputs": [],
   "source": [
    "abs(x)"
   ]
  },
  {
   "cell_type": "code",
   "execution_count": null,
   "metadata": {},
   "outputs": [],
   "source": [
    "# Usando la declaración implicita\n",
    "\n",
    "x=2\n",
    "print(x, type(x))"
   ]
  },
  {
   "cell_type": "markdown",
   "metadata": {},
   "source": [
    "### Tipo de dato de punto flotante"
   ]
  },
  {
   "cell_type": "code",
   "execution_count": null,
   "metadata": {},
   "outputs": [],
   "source": [
    "x=float(2)\n",
    "print(x, type(x))"
   ]
  },
  {
   "cell_type": "code",
   "execution_count": null,
   "metadata": {},
   "outputs": [],
   "source": [
    "x=2.\n",
    "print(x, type(x))"
   ]
  },
  {
   "cell_type": "markdown",
   "metadata": {},
   "source": [
    "### Tipo de dato complejo"
   ]
  },
  {
   "cell_type": "code",
   "execution_count": null,
   "metadata": {},
   "outputs": [],
   "source": [
    "x=complex(2,1)\n",
    "print(x, type(x))"
   ]
  },
  {
   "cell_type": "code",
   "execution_count": null,
   "metadata": {},
   "outputs": [],
   "source": [
    "x=2 + 1j\n",
    "print(x, type(x))"
   ]
  },
  {
   "cell_type": "code",
   "execution_count": null,
   "metadata": {},
   "outputs": [],
   "source": [
    "print(x.real)\n",
    "print(x.imag)"
   ]
  },
  {
   "cell_type": "markdown",
   "metadata": {},
   "source": [
    "## 4.3 Cadenas de caracteres\n",
    "\n",
    "Los tipos de datos tipo string o cadenas de caractéres son ampliamente usados en la administración y análisis de datos. Corresponden a secuencias de caracteres Unicode (UTF8).\n",
    "\n",
    "Pueden declararse usando la clase str() o usando comillas simples/dobles."
   ]
  },
  {
   "cell_type": "code",
   "execution_count": null,
   "metadata": {},
   "outputs": [],
   "source": [
    "x=str('\"Hola mundo\"')\n",
    "print(x, type(x))"
   ]
  },
  {
   "cell_type": "code",
   "execution_count": null,
   "metadata": {},
   "outputs": [],
   "source": [
    "x='Hola mundo'\n",
    "print(x, type(x))"
   ]
  },
  {
   "cell_type": "code",
   "execution_count": null,
   "metadata": {},
   "outputs": [],
   "source": [
    "x=\"Hola mundo\"\n",
    "print(x, type(x))"
   ]
  },
  {
   "cell_type": "code",
   "execution_count": null,
   "metadata": {},
   "outputs": [],
   "source": [
    "x=\"'Hola mundo'\"\n",
    "print(x)"
   ]
  },
  {
   "cell_type": "code",
   "execution_count": null,
   "metadata": {
    "scrolled": true
   },
   "outputs": [],
   "source": [
    "help(str)"
   ]
  },
  {
   "cell_type": "code",
   "execution_count": null,
   "metadata": {},
   "outputs": [],
   "source": [
    "x"
   ]
  },
  {
   "cell_type": "code",
   "execution_count": null,
   "metadata": {},
   "outputs": [],
   "source": [
    "x.lower()"
   ]
  },
  {
   "cell_type": "code",
   "execution_count": null,
   "metadata": {
    "collapsed": true
   },
   "outputs": [],
   "source": [
    "y = x.upper()"
   ]
  },
  {
   "cell_type": "code",
   "execution_count": null,
   "metadata": {},
   "outputs": [],
   "source": [
    "y"
   ]
  },
  {
   "cell_type": "code",
   "execution_count": null,
   "metadata": {},
   "outputs": [],
   "source": [
    "x=\"C:\\Documents\"\n",
    "print(x)"
   ]
  },
  {
   "cell_type": "code",
   "execution_count": null,
   "metadata": {},
   "outputs": [],
   "source": [
    "y=x.replace(\"\\\\\",\"/\")\n",
    "print(y)"
   ]
  },
  {
   "cell_type": "code",
   "execution_count": null,
   "metadata": {},
   "outputs": [],
   "source": [
    "import os\n",
    "os.path.join(\"C:\\Windows\",\"Hola\")"
   ]
  },
  {
   "cell_type": "code",
   "execution_count": null,
   "metadata": {
    "collapsed": true
   },
   "outputs": [],
   "source": [
    "\"C:\\\\Windows\\\\Hola\""
   ]
  },
  {
   "cell_type": "markdown",
   "metadata": {},
   "source": [
    "## 4.4 Datos binarios: Bytes y arreglos de Bytes\n",
    "\n",
    "Las variables tipo bytes corresponden a secuencias inmutables de enteros pequeños en el rango 0 <= x < 256. Se pueden crear usando la función bytes().\n",
    "\n",
    "Las variables tipo bytearray corresponden a secuencias mutables de enteros pequeños en el rango 0 <= x < 256. Se pueden crear usando la función bytearray().\n",
    "\n",
    "bytes() comparte los mismmos métodos que bytearray(), simplemente es una versión inmutable."
   ]
  },
  {
   "cell_type": "markdown",
   "metadata": {},
   "source": [
    "### Tipo de datos bytes"
   ]
  },
  {
   "cell_type": "code",
   "execution_count": null,
   "metadata": {},
   "outputs": [],
   "source": [
    "# Creación de un objeto tipo bytes que contiene el valor 1\n",
    "\n",
    "x=bytes([1])\n",
    "print(x, type(x), len(x))"
   ]
  },
  {
   "cell_type": "code",
   "execution_count": null,
   "metadata": {},
   "outputs": [],
   "source": [
    "# Otro manera de crear bytes esa usando el prefijo b\n",
    "\n",
    "x=b'1'\n",
    "print(x, type(x), len(x))"
   ]
  },
  {
   "cell_type": "code",
   "execution_count": null,
   "metadata": {
    "collapsed": true
   },
   "outputs": [],
   "source": [
    "# Creación de un objeto tipo bytes de largo 10\n",
    "\n",
    "x=bytes(10)\n",
    "print(x, type(x), len(x))"
   ]
  },
  {
   "cell_type": "code",
   "execution_count": null,
   "metadata": {
    "collapsed": true
   },
   "outputs": [],
   "source": [
    "# Acceder al elemento 0 de la secuencia\n",
    "\n",
    "x[0]"
   ]
  },
  {
   "cell_type": "code",
   "execution_count": null,
   "metadata": {
    "collapsed": true,
    "scrolled": true
   },
   "outputs": [],
   "source": [
    "# Cambiar el valor del elemento 0\n",
    "\n",
    "x[0]=1\n",
    "x"
   ]
  },
  {
   "cell_type": "code",
   "execution_count": null,
   "metadata": {
    "collapsed": true
   },
   "outputs": [],
   "source": [
    "# Crear un objeto tipo byte a partir de un string\n",
    "\n",
    "x=bytes(\"Hola mundó\", \"utf8\")\n",
    "print(x, type(x), len(x))"
   ]
  },
  {
   "cell_type": "code",
   "execution_count": null,
   "metadata": {
    "collapsed": true
   },
   "outputs": [],
   "source": [
    "x=b\"Hola mundo\"\n",
    "print(x, type(x), len(x))"
   ]
  },
  {
   "cell_type": "markdown",
   "metadata": {},
   "source": [
    "### Tipo de datos bytearray"
   ]
  },
  {
   "cell_type": "code",
   "execution_count": null,
   "metadata": {},
   "outputs": [],
   "source": [
    "# Creación de un objeto tipo bytes de largo 10\n",
    "\n",
    "x=bytearray(10)\n",
    "print(x, type(x), len(x))"
   ]
  },
  {
   "cell_type": "code",
   "execution_count": null,
   "metadata": {},
   "outputs": [],
   "source": [
    "# Acceder al elemento 0 de la secuencia\n",
    "\n",
    "x[0]"
   ]
  },
  {
   "cell_type": "code",
   "execution_count": null,
   "metadata": {
    "scrolled": true
   },
   "outputs": [],
   "source": [
    "# Cambiar el valor del elemento 0\n",
    "\n",
    "x[0]=1\n",
    "x"
   ]
  },
  {
   "cell_type": "code",
   "execution_count": null,
   "metadata": {
    "collapsed": true
   },
   "outputs": [],
   "source": [
    "# Crear un objeto tipo bytearray a partir de un string\n",
    "\n",
    "x=bytearray(\"Hola mundo\", \"utf8\")\n",
    "print(x, type(x), len(x))"
   ]
  },
  {
   "cell_type": "code",
   "execution_count": null,
   "metadata": {
    "collapsed": true,
    "scrolled": true
   },
   "outputs": [],
   "source": [
    "help(bytearray)"
   ]
  },
  {
   "cell_type": "code",
   "execution_count": null,
   "metadata": {
    "collapsed": true
   },
   "outputs": [],
   "source": [
    "# Usar el método decode() para transformarlo en string\n",
    "\n",
    "x.decode()"
   ]
  },
  {
   "cell_type": "code",
   "execution_count": null,
   "metadata": {
    "collapsed": true
   },
   "outputs": [],
   "source": [
    "# Usar el método hex() para transformarlo en hexadecimal\n",
    "\n",
    "x.hex()"
   ]
  },
  {
   "cell_type": "code",
   "execution_count": null,
   "metadata": {
    "collapsed": true
   },
   "outputs": [],
   "source": [
    "# Acceder al elemento 0 de la secuencia\n",
    "\n",
    "x[0]"
   ]
  },
  {
   "cell_type": "code",
   "execution_count": null,
   "metadata": {
    "collapsed": true
   },
   "outputs": [],
   "source": [
    "# Podemos cambiar el valor del primer elemento\n",
    "\n",
    "x[0]=73\n",
    "x"
   ]
  },
  {
   "cell_type": "markdown",
   "metadata": {},
   "source": [
    "## 4.5 Listas\n",
    "\n",
    "Una lista es una secuencia ordenada de valores. Son mutables, es decir, puede redefinirse el número de elementos y cambiar sus valores. Se pueden crear usando la función list() o los símbolos [ ].\n",
    "\n",
    "Las listas son el tipo de variables más usadas en Python, dada su facilidad y flexibilidad para almacenar diferentes tipos de valores. "
   ]
  },
  {
   "cell_type": "markdown",
   "metadata": {},
   "source": [
    "### Definir un objeto tipo lista"
   ]
  },
  {
   "cell_type": "code",
   "execution_count": null,
   "metadata": {},
   "outputs": [],
   "source": [
    "# Crear una lista vacía\n",
    "\n",
    "x=list()\n",
    "print(x, type(x), len(x))"
   ]
  },
  {
   "cell_type": "code",
   "execution_count": null,
   "metadata": {},
   "outputs": [],
   "source": [
    "# Crear una lista que contiene un par de valores enteros\n",
    "\n",
    "x=list([1,2,3])\n",
    "print(x, type(x), len(x))"
   ]
  },
  {
   "cell_type": "code",
   "execution_count": null,
   "metadata": {},
   "outputs": [],
   "source": [
    "# Crear una lista que mezcla enteros, punto flotante y string\n",
    "\n",
    "x=list([1,2.,'3',4.])\n",
    "print(x, type(x), len(x))"
   ]
  },
  {
   "cell_type": "code",
   "execution_count": null,
   "metadata": {},
   "outputs": [],
   "source": [
    "x[2]"
   ]
  },
  {
   "cell_type": "code",
   "execution_count": null,
   "metadata": {},
   "outputs": [],
   "source": [
    "x[:]"
   ]
  },
  {
   "cell_type": "code",
   "execution_count": null,
   "metadata": {},
   "outputs": [],
   "source": [
    "# Crear una lista usando los símbolos []\n",
    "\n",
    "x=[1,2.,'3',4.]\n",
    "print(x, type(x), len(x))"
   ]
  },
  {
   "cell_type": "code",
   "execution_count": null,
   "metadata": {},
   "outputs": [],
   "source": [
    "x+[6,7]"
   ]
  },
  {
   "cell_type": "code",
   "execution_count": null,
   "metadata": {},
   "outputs": [],
   "source": [
    "x=[]\n",
    "print(x)"
   ]
  },
  {
   "cell_type": "markdown",
   "metadata": {},
   "source": [
    "### Acceder a un elemento y cambiar su valor"
   ]
  },
  {
   "cell_type": "code",
   "execution_count": null,
   "metadata": {},
   "outputs": [],
   "source": [
    "# Acceder al elemento 0 de la lista\n",
    "\n",
    "x[0]"
   ]
  },
  {
   "cell_type": "code",
   "execution_count": null,
   "metadata": {},
   "outputs": [],
   "source": [
    "# Cambiar el valor del elemento 0\n",
    "\n",
    "x[0]='Hola mundo'\n",
    "x"
   ]
  },
  {
   "cell_type": "markdown",
   "metadata": {},
   "source": [
    "### Acceder a un slice de la lista"
   ]
  },
  {
   "cell_type": "code",
   "execution_count": null,
   "metadata": {},
   "outputs": [],
   "source": [
    "# Acceder a un slice desde el primer elemento hasta el segundo elemento. Usamos los indices 0 y 2\n",
    "\n",
    "x[0:2]"
   ]
  },
  {
   "cell_type": "code",
   "execution_count": null,
   "metadata": {},
   "outputs": [],
   "source": [
    "x[2:]"
   ]
  },
  {
   "cell_type": "code",
   "execution_count": null,
   "metadata": {
    "collapsed": true
   },
   "outputs": [],
   "source": []
  },
  {
   "cell_type": "code",
   "execution_count": null,
   "metadata": {
    "collapsed": true
   },
   "outputs": [],
   "source": [
    "# Acceder a un slice desde el tercer elemento hasta el último elemento. Usamos los índices 2 y el último lo dejamos en blanco\n",
    "\n",
    "x[2:]"
   ]
  },
  {
   "cell_type": "code",
   "execution_count": null,
   "metadata": {},
   "outputs": [],
   "source": [
    "# Acceder a los últimos dos elementos de la lista. Usamos los índices -2 y dejamos en blanco el último\n",
    "\n",
    "x[-3::-1]"
   ]
  },
  {
   "cell_type": "code",
   "execution_count": null,
   "metadata": {},
   "outputs": [],
   "source": [
    "x"
   ]
  },
  {
   "cell_type": "code",
   "execution_count": null,
   "metadata": {},
   "outputs": [],
   "source": [
    "x[::-1]"
   ]
  },
  {
   "cell_type": "markdown",
   "metadata": {},
   "source": [
    "### Agregar elementos a la lista"
   ]
  },
  {
   "cell_type": "code",
   "execution_count": null,
   "metadata": {},
   "outputs": [],
   "source": [
    "# Usar el operador suma\n",
    "\n",
    "x=x+[5,'6']\n",
    "x"
   ]
  },
  {
   "cell_type": "code",
   "execution_count": null,
   "metadata": {},
   "outputs": [],
   "source": [
    "# Usar el método append. El nuevo elemento se agrega al final de la lista.\n",
    "# En caso que el elemento sea una lista, esta se agrega tal cual\n",
    "\n",
    "x.append(7.)\n",
    "x"
   ]
  },
  {
   "cell_type": "code",
   "execution_count": null,
   "metadata": {},
   "outputs": [],
   "source": [
    "help(list.append)"
   ]
  },
  {
   "cell_type": "code",
   "execution_count": null,
   "metadata": {},
   "outputs": [],
   "source": [
    "x.append([8,'9'])\n",
    "x"
   ]
  },
  {
   "cell_type": "code",
   "execution_count": null,
   "metadata": {
    "collapsed": true
   },
   "outputs": [],
   "source": [
    "type(x[7])\n",
    "x[7][1]"
   ]
  },
  {
   "cell_type": "code",
   "execution_count": null,
   "metadata": {},
   "outputs": [],
   "source": [
    "# Usar el método extend. El nuevo elemento se agrega al final de la lista.\n",
    "# En caso de ser una lista, cada elemento se agrega por separado\n",
    "\n",
    "x.extend([10,'11','6'])\n",
    "x"
   ]
  },
  {
   "cell_type": "code",
   "execution_count": null,
   "metadata": {
    "collapsed": true
   },
   "outputs": [],
   "source": [
    "x.insert(0,\"0\")"
   ]
  },
  {
   "cell_type": "code",
   "execution_count": null,
   "metadata": {},
   "outputs": [],
   "source": [
    "x"
   ]
  },
  {
   "cell_type": "code",
   "execution_count": null,
   "metadata": {},
   "outputs": [],
   "source": [
    "x.insert(5,\"0\")\n",
    "x"
   ]
  },
  {
   "cell_type": "code",
   "execution_count": null,
   "metadata": {
    "collapsed": true
   },
   "outputs": [],
   "source": []
  },
  {
   "cell_type": "markdown",
   "metadata": {},
   "source": [
    "### Buscar elementos en una lista"
   ]
  },
  {
   "cell_type": "code",
   "execution_count": null,
   "metadata": {},
   "outputs": [],
   "source": [
    "# Usar el método count() para contar ocurrencias de algún elemento\n",
    "\n",
    "x.count('5')"
   ]
  },
  {
   "cell_type": "code",
   "execution_count": null,
   "metadata": {},
   "outputs": [],
   "source": [
    "# Usar la función in para determinar si elemento existe en la lista\n",
    "\n",
    "'Roberto' in x"
   ]
  },
  {
   "cell_type": "code",
   "execution_count": null,
   "metadata": {},
   "outputs": [],
   "source": [
    "# Determinar el índice en el cual se encuentra el elemento\n",
    "\n",
    "x.index('6')\n",
    "#help(x.index)"
   ]
  },
  {
   "cell_type": "code",
   "execution_count": null,
   "metadata": {},
   "outputs": [],
   "source": [
    "x"
   ]
  },
  {
   "cell_type": "code",
   "execution_count": null,
   "metadata": {},
   "outputs": [],
   "source": [
    "x.index('6',-1)"
   ]
  },
  {
   "cell_type": "code",
   "execution_count": null,
   "metadata": {},
   "outputs": [],
   "source": [
    "len(x)"
   ]
  },
  {
   "cell_type": "code",
   "execution_count": null,
   "metadata": {},
   "outputs": [],
   "source": [
    "# ¿Que suecede si buscamos un valor que no se encuentra en la lista?\n",
    "\n",
    "x.index(20)"
   ]
  },
  {
   "cell_type": "code",
   "execution_count": null,
   "metadata": {},
   "outputs": [],
   "source": [
    "20 in x"
   ]
  },
  {
   "cell_type": "markdown",
   "metadata": {},
   "source": [
    "### Eliminar elementos de una lista"
   ]
  },
  {
   "cell_type": "code",
   "execution_count": null,
   "metadata": {},
   "outputs": [],
   "source": [
    "# Eliminar elementos usando el indice\n",
    "\n",
    "del x[0]\n",
    "x"
   ]
  },
  {
   "cell_type": "code",
   "execution_count": null,
   "metadata": {},
   "outputs": [],
   "source": [
    "# Eliminar elementos usando el método remove(). Elimina la primera ocurrencia del elemento\n",
    "\n",
    "x.remove('6')\n",
    "x"
   ]
  },
  {
   "cell_type": "code",
   "execution_count": null,
   "metadata": {},
   "outputs": [],
   "source": [
    "# ¿Que suecede si borramos un elemento que no existe en la lista?\n",
    "\n",
    "x.remove(20)\n",
    "x"
   ]
  },
  {
   "cell_type": "code",
   "execution_count": null,
   "metadata": {},
   "outputs": [],
   "source": [
    "# Eliminar elementos usando el método pop().\n",
    "# Este método extrae una copia del último elemento de la lista y lo remueve\n",
    "\n",
    "y=x.pop(0)\n",
    "print(y)\n",
    "#print(x)"
   ]
  },
  {
   "cell_type": "code",
   "execution_count": null,
   "metadata": {},
   "outputs": [],
   "source": [
    "x"
   ]
  },
  {
   "cell_type": "code",
   "execution_count": null,
   "metadata": {
    "collapsed": true
   },
   "outputs": [],
   "source": [
    "help(x)"
   ]
  },
  {
   "cell_type": "code",
   "execution_count": null,
   "metadata": {},
   "outputs": [],
   "source": [
    "x='3'\n",
    "int(x)"
   ]
  },
  {
   "cell_type": "code",
   "execution_count": null,
   "metadata": {},
   "outputs": [],
   "source": [
    "x=[2.0, '3', 4.0, '0']\n",
    "\n",
    "y = [int(numero) for numero in x]\n",
    "y"
   ]
  },
  {
   "cell_type": "markdown",
   "metadata": {},
   "source": [
    "## 4.6 Tuplas\n",
    "\n",
    "Una tupla es una lista inmutable. Una tupla no puede ser alterada de ninguna manera una vez definida.\n",
    "\n",
    "Se pueden crear usando la función tuple() o los símbolos ( ).\n",
    "\n",
    "Las tuplas no tienen los métodos append(), extend(), insert(), remove() y pop()"
   ]
  },
  {
   "cell_type": "markdown",
   "metadata": {},
   "source": [
    "### Definir un objeto tipo tupla"
   ]
  },
  {
   "cell_type": "code",
   "execution_count": null,
   "metadata": {},
   "outputs": [],
   "source": [
    "# Crear una tupla vacía\n",
    "\n",
    "x=tuple()\n",
    "print(x, type(x), len(x))"
   ]
  },
  {
   "cell_type": "code",
   "execution_count": null,
   "metadata": {},
   "outputs": [],
   "source": [
    "# Crear una tupla usando la función tuple()\n",
    "\n",
    "x=tuple([1,2.,'3',4.])\n",
    "print(x, type(x), len(x))"
   ]
  },
  {
   "cell_type": "code",
   "execution_count": null,
   "metadata": {},
   "outputs": [],
   "source": [
    "# Crear una tupla usando los símbolos ()\n",
    "\n",
    "x=(1,2.,'3',4.)\n",
    "print(x, type(x), len(x))"
   ]
  },
  {
   "cell_type": "markdown",
   "metadata": {},
   "source": [
    "### Acceder a un elemento"
   ]
  },
  {
   "cell_type": "code",
   "execution_count": null,
   "metadata": {},
   "outputs": [],
   "source": [
    "# Acceder al elemento 0 de la lista\n",
    "\n",
    "x[0]"
   ]
  },
  {
   "cell_type": "code",
   "execution_count": null,
   "metadata": {},
   "outputs": [],
   "source": [
    "# ¿Que sucede si tratamos de cambiar el valor del elemento 0?\n",
    "\n",
    "x[0]='Hola mundo'\n",
    "x"
   ]
  },
  {
   "cell_type": "markdown",
   "metadata": {},
   "source": [
    "### Acceder a un slice de la tupla"
   ]
  },
  {
   "cell_type": "code",
   "execution_count": null,
   "metadata": {
    "collapsed": true,
    "scrolled": true
   },
   "outputs": [],
   "source": [
    "# Acceder a un slice desde el primer elemento hasta el segundo elemento. Usamos los indices 0 y 2\n",
    "\n",
    "x[0:2]"
   ]
  },
  {
   "cell_type": "code",
   "execution_count": null,
   "metadata": {
    "collapsed": true
   },
   "outputs": [],
   "source": [
    "# Acceder a un slice desde el tercer elemento hasta el último elemento. Usamos los índices 2 y el último lo dejamos en blanco\n",
    "\n",
    "x[2:]"
   ]
  },
  {
   "cell_type": "code",
   "execution_count": null,
   "metadata": {
    "collapsed": true
   },
   "outputs": [],
   "source": [
    "# Acceder a los últimos dos elementos de la tupla. Usamos los índices -2 y dejamos en blanco el último\n",
    "\n",
    "x[-2:]"
   ]
  },
  {
   "cell_type": "markdown",
   "metadata": {},
   "source": [
    "## 4.7 Rangos\n",
    "\n",
    "Un rango corresponde a una secuencia inmutable de números y es comúnmente usada en ciclos for para repetir un número finito de veces alguna expresión.\n",
    "\n",
    "Los rangos se pueden crear usando la función range(). Puede ser llamada usando un sólo parámetro **range(stop)**, dos parámetros **range(start,stop)** y hasta tres parámetros **range(start, stop, step)**\n",
    "\n",
    "En Python 2 range() era una función que creaba una lista de largo finitio, y también existía una función llamada xrange() que creaba un tipo de datos xrange(). En Python 3 la función original range() fue descontinuada y ahora range es un tipo de datos."
   ]
  },
  {
   "cell_type": "code",
   "execution_count": null,
   "metadata": {},
   "outputs": [],
   "source": [
    "x=range(0,10)\n",
    "x"
   ]
  },
  {
   "cell_type": "code",
   "execution_count": null,
   "metadata": {},
   "outputs": [],
   "source": [
    "type(x)"
   ]
  },
  {
   "cell_type": "code",
   "execution_count": null,
   "metadata": {},
   "outputs": [],
   "source": [
    "for i in x:\n",
    "    print(i)"
   ]
  },
  {
   "cell_type": "code",
   "execution_count": null,
   "metadata": {},
   "outputs": [],
   "source": [
    "list(x)"
   ]
  },
  {
   "cell_type": "code",
   "execution_count": null,
   "metadata": {},
   "outputs": [],
   "source": [
    "x=range(1,10,2)\n",
    "x"
   ]
  },
  {
   "cell_type": "code",
   "execution_count": null,
   "metadata": {},
   "outputs": [],
   "source": [
    "for i in x:\n",
    "    print(i)"
   ]
  },
  {
   "cell_type": "code",
   "execution_count": null,
   "metadata": {},
   "outputs": [],
   "source": [
    "# ¿Qué sucede si tratamos de crear un rango usando un paso no entero\n",
    "x=range(1,10,0.1)"
   ]
  },
  {
   "cell_type": "markdown",
   "metadata": {},
   "source": [
    "## 4.8 Conjuntos\n",
    "\n",
    "Un conjunto es una colección no ordenada y sin elementos repetidos. Los usos básicos de éstos incluyen verificación de pertenencia y eliminación de entradas duplicadas. Los conjuntos también soportan operaciones matemáticas como la unión, intersección, diferencia, y diferencia simétrica.\n",
    "\n",
    "Los conjuntos se pueden crear usando la función set() o los símbolos {}."
   ]
  },
  {
   "cell_type": "markdown",
   "metadata": {},
   "source": [
    "### Definir un objeto tipo conjunto"
   ]
  },
  {
   "cell_type": "code",
   "execution_count": null,
   "metadata": {},
   "outputs": [],
   "source": [
    "x = set(['manzana'])\n",
    "print(x, type(x), len(x))"
   ]
  },
  {
   "cell_type": "code",
   "execution_count": null,
   "metadata": {},
   "outputs": [],
   "source": [
    "x={'manzana'}\n",
    "print(x, type(x), len(x))"
   ]
  },
  {
   "cell_type": "code",
   "execution_count": null,
   "metadata": {},
   "outputs": [],
   "source": [
    "canasta = ['manzana', 'naranja', 'manzana', 'pera', 'naranja', 'plátano']\n",
    "print(canasta)"
   ]
  },
  {
   "cell_type": "code",
   "execution_count": null,
   "metadata": {},
   "outputs": [],
   "source": [
    "set(canasta)"
   ]
  },
  {
   "cell_type": "code",
   "execution_count": null,
   "metadata": {
    "collapsed": true
   },
   "outputs": [],
   "source": [
    "list()"
   ]
  },
  {
   "cell_type": "code",
   "execution_count": null,
   "metadata": {},
   "outputs": [],
   "source": [
    "# Crear un conjunto con múltiples elementos\n",
    "\n",
    "canasta = {'manzana', 'naranja', 'manzana', 'pera', 'naranja', 'plátano'}\n",
    "print(canasta)"
   ]
  },
  {
   "cell_type": "code",
   "execution_count": null,
   "metadata": {},
   "outputs": [],
   "source": [
    "list(canasta)"
   ]
  },
  {
   "cell_type": "code",
   "execution_count": null,
   "metadata": {},
   "outputs": [],
   "source": [
    "# Determinar si elemento existe en set\n",
    "\n",
    "'naranja' in canasta "
   ]
  },
  {
   "cell_type": "code",
   "execution_count": null,
   "metadata": {},
   "outputs": [],
   "source": [
    "# Determinar si elemento existe en set\n",
    "\n",
    "'sandía' in canasta "
   ]
  },
  {
   "cell_type": "code",
   "execution_count": null,
   "metadata": {},
   "outputs": [],
   "source": [
    "canasta[0]"
   ]
  },
  {
   "cell_type": "markdown",
   "metadata": {},
   "source": [
    "### Definir un conjunto usando letras únicas de palabras"
   ]
  },
  {
   "cell_type": "code",
   "execution_count": null,
   "metadata": {
    "collapsed": true
   },
   "outputs": [],
   "source": [
    "x=set('manzana')\n",
    "y=set('naranja')\n",
    "\n",
    "print(\"Letras únicas en x: \", x)\n",
    "print(\"Letras únicas en y: \", y)"
   ]
  },
  {
   "cell_type": "code",
   "execution_count": null,
   "metadata": {
    "collapsed": true
   },
   "outputs": [],
   "source": [
    "# letras en x pero no en y\n",
    "\n",
    "x-y"
   ]
  },
  {
   "cell_type": "code",
   "execution_count": null,
   "metadata": {
    "collapsed": true
   },
   "outputs": [],
   "source": [
    "# letras en a o en b o en ambas\n",
    "\n",
    "x | y"
   ]
  },
  {
   "cell_type": "code",
   "execution_count": null,
   "metadata": {
    "collapsed": true
   },
   "outputs": [],
   "source": [
    "# letras en a y en b\n",
    "\n",
    "x & y"
   ]
  },
  {
   "cell_type": "code",
   "execution_count": null,
   "metadata": {
    "collapsed": true
   },
   "outputs": [],
   "source": [
    "# letras en x o y pero no en ambos\n",
    "\n",
    "x ^ y"
   ]
  },
  {
   "cell_type": "markdown",
   "metadata": {},
   "source": [
    "## 4.9 Diccionarios\n",
    "\n",
    "Otro tipo de dato útil incluído en Python es el diccionario. Los diccionarios se encuentran a veces en otros lenguajes como \"memorias asociativas\" o \"arreglos asociativos\". A diferencia de las secuencias, que se indexan mediante un rango numérico, los diccionarios se indexan con claves, que pueden ser cualquier tipo inmutable; las cadenas y números siempre pueden ser claves.\n",
    "\n",
    "Las tuplas pueden usarse como claves si solamente contienen cadenas, números o tuplas; si una tupla contiene cualquier objeto mutable directa o indirectamente, no puede usarse como clave. No se pueden usar listas como claves, ya que las listas pueden modificarse.\n",
    "\n",
    "Lo mejor es pensar en un diccionario como un conjunto no ordenado de pares clave: valor, con el requerimiento de que las claves sean únicas (dentro de un diccionario en particular). \n",
    "\n",
    "Los diccionarios se pueden crear usando la función dict() o los símbolos {}."
   ]
  },
  {
   "cell_type": "markdown",
   "metadata": {},
   "source": [
    "### Definir un objeto tipo diccionario"
   ]
  },
  {
   "cell_type": "code",
   "execution_count": null,
   "metadata": {},
   "outputs": [],
   "source": [
    "x = dict()\n",
    "print(x, type(x), len(x))"
   ]
  },
  {
   "cell_type": "code",
   "execution_count": null,
   "metadata": {},
   "outputs": [],
   "source": [
    "# Crear un diccionario que contiene la población de algunos países en Sudamérica\n",
    "\n",
    "poblacion={'brasil':[209.567920e6,1], 'mexico':128.632004e6, 'colombia':48.654392e6, 'argentina': 43.847277e6,\n",
    "            'peru': 31.774225e6,  'venezuela': 31.518855e6, 'chile': 18.131850e6}\n",
    "\n",
    "print(poblacion, type(poblacion))"
   ]
  },
  {
   "cell_type": "code",
   "execution_count": null,
   "metadata": {},
   "outputs": [],
   "source": [
    "# Recuperar las claves de la variable poblacion\n",
    "\n",
    "x=poblacion.keys()\n",
    "print(x)"
   ]
  },
  {
   "cell_type": "code",
   "execution_count": null,
   "metadata": {},
   "outputs": [],
   "source": [
    "y=list(x)\n",
    "print(type(y))"
   ]
  },
  {
   "cell_type": "code",
   "execution_count": null,
   "metadata": {},
   "outputs": [],
   "source": [
    "# Recuperar los valores de la variable poblacion\n",
    "\n",
    "poblacion.values()"
   ]
  },
  {
   "cell_type": "code",
   "execution_count": null,
   "metadata": {},
   "outputs": [],
   "source": [
    "# Recuperar la población de un país usando la clave\n",
    "\n",
    "poblacion['chile']"
   ]
  },
  {
   "cell_type": "code",
   "execution_count": null,
   "metadata": {},
   "outputs": [],
   "source": [
    "# Agregar un nuevo elemento al diccionario\n",
    "\n",
    "poblacion['ecuador']=16.739923e6\n",
    "print(poblacion)"
   ]
  },
  {
   "cell_type": "code",
   "execution_count": null,
   "metadata": {},
   "outputs": [],
   "source": [
    "poblacion['ecuador']=1\n",
    "print(poblacion)"
   ]
  },
  {
   "cell_type": "code",
   "execution_count": null,
   "metadata": {},
   "outputs": [],
   "source": [
    "# Imprimir cada una de las claves del diccionario\n",
    "\n",
    "for i in poblacion:\n",
    "    print(i)"
   ]
  },
  {
   "cell_type": "code",
   "execution_count": null,
   "metadata": {
    "collapsed": true
   },
   "outputs": [],
   "source": [
    "poblacion.items()"
   ]
  },
  {
   "cell_type": "code",
   "execution_count": null,
   "metadata": {},
   "outputs": [],
   "source": [
    "# Imprimir cada par de clave y valor\n",
    "\n",
    "for key, value in poblacion.items():\n",
    "    print(key, value)"
   ]
  },
  {
   "cell_type": "markdown",
   "metadata": {},
   "source": [
    "----\n",
    "# Ejercicios\n",
    "\n",
    "Realice los siguientes ejercicios. En caso de tener dudas, puede apoyarse con sus compañeros, preguntarle al profesor y hacer búsquedas en internet.\n"
   ]
  },
  {
   "cell_type": "markdown",
   "metadata": {},
   "source": [
    "1. Cree una variable llamada **x** que contenga un número entero\n",
    "2. Cree una variable llamada **y** que contenga un número de punto flotante\n",
    "3. Cree una variable llamada **z** que contenga el nombre de su libro favorito"
   ]
  },
  {
   "cell_type": "code",
   "execution_count": null,
   "metadata": {
    "collapsed": true
   },
   "outputs": [],
   "source": []
  },
  {
   "cell_type": "markdown",
   "metadata": {},
   "source": [
    "4. Cree una variable llamada **a** que corresponda a la suma entre **x** e **y**\n",
    "5. Cree una variable llamada **b** que corresponda a la suma entre **x** e **z**. En caso de fallar, explique porqué fallo.\n",
    "\n",
    "4. Cree una lista llamada **c** que contenga los objetos **x** y **y**.\n",
    "5. Agregue a la lista **c** los objetos **a** y **b**,"
   ]
  },
  {
   "cell_type": "code",
   "execution_count": null,
   "metadata": {
    "collapsed": true
   },
   "outputs": [],
   "source": []
  },
  {
   "cell_type": "markdown",
   "metadata": {},
   "source": [
    "1. Cree un diccionario llamado **frutas** que contenga 4 claves con nombres de frutas. El valor de cada clave debe corresponder al precio de 1 kilogramo en pesos chilenos.\n",
    "2. Para cada fruta determine cuanto valdrían 7 kilogramos."
   ]
  },
  {
   "cell_type": "code",
   "execution_count": null,
   "metadata": {
    "collapsed": true
   },
   "outputs": [],
   "source": []
  },
  {
   "cell_type": "code",
   "execution_count": null,
   "metadata": {
    "collapsed": true
   },
   "outputs": [],
   "source": []
  },
  {
   "cell_type": "markdown",
   "metadata": {},
   "source": [
    "## Apéndice: Uso de modulos time and timeit"
   ]
  },
  {
   "cell_type": "markdown",
   "metadata": {},
   "source": [
    "En códigos python también es posible usar los siguientes módulos\n",
    "\n",
    "- import timeit\n",
    "- import time"
   ]
  },
  {
   "cell_type": "code",
   "execution_count": null,
   "metadata": {
    "collapsed": true
   },
   "outputs": [],
   "source": [
    "import timeit\n",
    "\n",
    "def sumar():\n",
    "    n=1000\n",
    "    return sum(range(n))\n",
    "\n",
    "timeit.timeit(sumar, number=100)"
   ]
  },
  {
   "cell_type": "code",
   "execution_count": null,
   "metadata": {
    "collapsed": true
   },
   "outputs": [],
   "source": [
    "setup = '''\n",
    "n=1000\n",
    "\n",
    "def sumar(n):\n",
    "    return sum(range(n))\n",
    "'''\n",
    "\n",
    "t=timeit.Timer(stmt=setup)\n",
    "t.timeit(number=100)"
   ]
  },
  {
   "cell_type": "code",
   "execution_count": null,
   "metadata": {
    "collapsed": true
   },
   "outputs": [],
   "source": [
    "import time\n",
    "\n",
    "n=1000\n",
    "def sumar(n):\n",
    "    return sum(range(n))\n",
    "\n",
    "time_start=time.process_time()\n",
    "result=sumar(n)\n",
    "time_end=time.process_time()\n",
    "\n",
    "print(time_end-time_start)"
   ]
  },
  {
   "cell_type": "code",
   "execution_count": null,
   "metadata": {
    "collapsed": true
   },
   "outputs": [],
   "source": []
  }
 ],
 "metadata": {
  "kernelspec": {
   "display_name": "Python 3",
   "language": "python",
   "name": "python3"
  },
  "language_info": {
   "codemirror_mode": {
    "name": "ipython",
    "version": 3
   },
   "file_extension": ".py",
   "mimetype": "text/x-python",
   "name": "python",
   "nbconvert_exporter": "python",
   "pygments_lexer": "ipython3",
   "version": "3.6.4"
  }
 },
 "nbformat": 4,
 "nbformat_minor": 1
}
